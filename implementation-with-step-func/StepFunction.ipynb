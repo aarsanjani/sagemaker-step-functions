{
 "cells": [
  {
   "cell_type": "markdown",
   "metadata": {},
   "source": [
    "### Create Step Function\n",
    "\n",
    "Now we have to create a step function to orchestrate the execution of all the previous step. \n",
    "\n",
    "For step function we use the ASL markup language. "
   ]
  },
  {
   "cell_type": "markdown",
   "metadata": {},
   "source": [
    "This is the resulting diagram:"
   ]
  },
  {
   "cell_type": "markdown",
   "metadata": {},
   "source": [
    "<img src='steps.png'></img>"
   ]
  },
  {
   "cell_type": "code",
   "execution_count": 1,
   "metadata": {},
   "outputs": [
    {
     "name": "stdout",
     "output_type": "stream",
     "text": [
      "{\r\n",
      "  \"StartAt\": \"ETL\",\r\n",
      "  \"States\": {\r\n",
      "    \"ETL\": {\r\n",
      "        \"Type\": \"Task\",\r\n",
      "        \"Resource\": \"arn:aws:states:::glue:startJobRun.sync\",\r\n",
      "        \"Parameters\": {\r\n",
      "          \"JobName\": \"etlandpipeline\"\r\n",
      "        },\r\n",
      "        \"Next\": \"StartTrainingJob\"\r\n",
      "      },\r\n",
      "      \"StartTrainingJob\": {\r\n",
      "              \"Type\": \"Task\",\r\n",
      "              \"Resource\": \"arn:aws:lambda:us-east-1:452432741922:function:lambdaModelTrain\",\r\n",
      "              \"ResultPath\": \"$\",\r\n",
      "              \"Next\": \"CheckStatusTraining\"\r\n",
      "            },\r\n",
      "            \"CheckStatusTraining\": {\r\n",
      "              \"Type\": \"Task\",\r\n",
      "              \"Resource\": \"arn:aws:lambda:us-east-1:452432741922:function:lambdaModelAwait\",\r\n",
      "              \"ResultPath\": \"$\",\r\n",
      "              \"Next\": \"CheckTrainingBranch\"\r\n",
      "            },\r\n",
      "        \"CheckTrainingBranch\": {\r\n",
      "              \"Type\": \"Choice\",\r\n",
      "              \"Choices\": [\r\n",
      "                {\r\n",
      "                  \"Or\": [{\r\n",
      "                      \"Variable\": \"$.status\",\r\n",
      "                      \"StringEquals\": \"Completed\"\r\n",
      "                    }\r\n",
      "                   ],\r\n",
      "                  \"Next\": \"StartDeployment\"\r\n",
      "                },\r\n",
      "                {\r\n",
      "                  \"Or\": [{\r\n",
      "                      \"Variable\": \"$.status\",\r\n",
      "                      \"StringEquals\": \"InProgress\"\r\n",
      "                    }\r\n",
      "                  ],\r\n",
      "                  \"Next\": \"WaitStatusTraining\"\r\n",
      "                }\r\n",
      "              ]\r\n",
      "            },\r\n",
      "            \r\n",
      "            \"WaitStatusTraining\": {\r\n",
      "              \"Type\": \"Wait\",\r\n",
      "              \"Seconds\": 60,\r\n",
      "              \"Next\": \"CheckStatusTraining\"\r\n",
      "            },\r\n",
      "            \r\n",
      "            \"StartDeployment\": {\r\n",
      "              \"Type\": \"Task\",\r\n",
      "              \"Resource\": \"arn:aws:lambda:us-east-1:452432741922:function:lambdaModelDeploy\",\r\n",
      "              \"Next\": \"CheckStatusDeployment\"\r\n",
      "            },\r\n",
      "            \"CheckStatusDeployment\": {\r\n",
      "              \"Type\": \"Task\",\r\n",
      "              \"Resource\": \"arn:aws:lambda:us-east-1:452432741922:function:lambdaModelAwait\",\r\n",
      "              \"ResultPath\": \"$\",\r\n",
      "              \"Next\": \"CheckDeploymentBranch\"\r\n",
      "            },\r\n",
      "          \r\n",
      "            \"CheckDeploymentBranch\": {\r\n",
      "              \"Type\": \"Choice\",\r\n",
      "              \"Choices\": [\r\n",
      "                {\r\n",
      "                  \"Or\": [{\r\n",
      "                      \"Variable\": \"$.status\",\r\n",
      "                      \"StringEquals\": \"Creating\"\r\n",
      "                    }\r\n",
      "                   ],\r\n",
      "                  \"Next\": \"WaitStatusDeployment\"\r\n",
      "                },\r\n",
      "                {\r\n",
      "                  \"Or\": [{\r\n",
      "                      \"Variable\": \"$.status\",\r\n",
      "                      \"StringEquals\": \"InService\"\r\n",
      "                    }\r\n",
      "                  ],\r\n",
      "                  \"Next\": \"StartPrediction\"\r\n",
      "                }\r\n",
      "              ]\r\n",
      "            },\r\n",
      "            \"WaitStatusDeployment\": {\r\n",
      "              \"Type\": \"Wait\",\r\n",
      "              \"Seconds\": 60,\r\n",
      "              \"Next\": \"CheckStatusDeployment\"\r\n",
      "            },\r\n",
      "            \"StartPrediction\": {\r\n",
      "              \"Type\": \"Task\",\r\n",
      "              \"Resource\": \"arn:aws:lambda:us-east-1:452432741922:function:lambdaModelPredict\",\r\n",
      "              \"End\": true\r\n",
      "            }\r\n",
      "          }\r\n",
      "        }"
     ]
    }
   ],
   "source": [
    "! cat stepFunction.asl"
   ]
  }
 ],
 "metadata": {
  "kernelspec": {
   "display_name": "conda_python3",
   "language": "python",
   "name": "conda_python3"
  },
  "language_info": {
   "codemirror_mode": {
    "name": "ipython",
    "version": 3
   },
   "file_extension": ".py",
   "mimetype": "text/x-python",
   "name": "python",
   "nbconvert_exporter": "python",
   "pygments_lexer": "ipython3",
   "version": "3.6.5"
  }
 },
 "nbformat": 4,
 "nbformat_minor": 2
}
