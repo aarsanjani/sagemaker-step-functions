{
 "cells": [
  {
   "cell_type": "markdown",
   "metadata": {},
   "source": [
    "## Data Exploration\n",
    "\n",
    "The Company X is interested in offering promotion to it's multiple resellers so they increase the amount they buy. \n",
    "\n",
    "Company X's seller take a tablet to the site of sale, where they offer different amounts with promotions ranging from 15% to 30%.\n",
    "\n",
    "To generate this promotions, the business unit needs an accurate forecast on how much is the next bill going to be for each particular reseller."
   ]
  },
  {
   "cell_type": "code",
   "execution_count": 2,
   "metadata": {},
   "outputs": [
    {
     "name": "stdout",
     "output_type": "stream",
     "text": [
      "--2019-07-02 13:38:52--  https://ml-lab-mggaska.s3.amazonaws.com/sales-forecast/billing_sm.csv\n",
      "Resolving ml-lab-mggaska.s3.amazonaws.com (ml-lab-mggaska.s3.amazonaws.com)... 52.216.136.164\n",
      "Connecting to ml-lab-mggaska.s3.amazonaws.com (ml-lab-mggaska.s3.amazonaws.com)|52.216.136.164|:443... connected.\n",
      "HTTP request sent, awaiting response... 200 OK\n",
      "Length: 15803443 (15M) [binary/octet-stream]\n",
      "Saving to: ‘billing_sm.csv’\n",
      "\n",
      "billing_sm.csv      100%[===================>]  15.07M  --.-KB/s    in 0.1s    \n",
      "\n",
      "2019-07-02 13:38:52 (157 MB/s) - ‘billing_sm.csv’ saved [15803443/15803443]\n",
      "\n",
      "--2019-07-02 13:38:52--  https://ml-lab-mggaska.s3.amazonaws.com/sales-forecast/reseller_sm.csv\n",
      "Resolving ml-lab-mggaska.s3.amazonaws.com (ml-lab-mggaska.s3.amazonaws.com)... 52.216.136.164\n",
      "Connecting to ml-lab-mggaska.s3.amazonaws.com (ml-lab-mggaska.s3.amazonaws.com)|52.216.136.164|:443... connected.\n",
      "HTTP request sent, awaiting response... 200 OK\n",
      "Length: 210111 (205K) [binary/octet-stream]\n",
      "Saving to: ‘reseller_sm.csv’\n",
      "\n",
      "reseller_sm.csv     100%[===================>] 205.19K  --.-KB/s    in 0.01s   \n",
      "\n",
      "2019-07-02 13:38:53 (14.3 MB/s) - ‘reseller_sm.csv’ saved [210111/210111]\n",
      "\n"
     ]
    }
   ],
   "source": [
    "# Let's get the data\n",
    "\n",
    "!wget https://ml-lab-mggaska.s3.amazonaws.com/sales-forecast/billing_sm.csv\n",
    "!wget https://ml-lab-mggaska.s3.amazonaws.com/sales-forecast/reseller_sm.csv"
   ]
  },
  {
   "cell_type": "code",
   "execution_count": 3,
   "metadata": {},
   "outputs": [],
   "source": [
    "import pandas as pd\n",
    "import matplotlib.pyplot as plt"
   ]
  },
  {
   "cell_type": "code",
   "execution_count": 4,
   "metadata": {},
   "outputs": [],
   "source": [
    "df = pd.read_csv('billing_sm.csv')"
   ]
  },
  {
   "cell_type": "code",
   "execution_count": 5,
   "metadata": {},
   "outputs": [],
   "source": [
    "df_r = pd.read_csv('reseller_sm.csv')"
   ]
  },
  {
   "cell_type": "code",
   "execution_count": 6,
   "metadata": {},
   "outputs": [
    {
     "name": "stdout",
     "output_type": "stream",
     "text": [
      "<class 'pandas.core.frame.DataFrame'>\n",
      "RangeIndex: 467729 entries, 0 to 467728\n",
      "Data columns (total 3 columns):\n",
      "id_reseller    467729 non-null int64\n",
      "date           467729 non-null object\n",
      "bill           467729 non-null float64\n",
      "dtypes: float64(1), int64(1), object(1)\n",
      "memory usage: 10.7+ MB\n"
     ]
    }
   ],
   "source": [
    "df.info()"
   ]
  },
  {
   "cell_type": "code",
   "execution_count": 7,
   "metadata": {},
   "outputs": [
    {
     "name": "stdout",
     "output_type": "stream",
     "text": [
      "<class 'pandas.core.frame.DataFrame'>\n",
      "RangeIndex: 12358 entries, 0 to 12357\n",
      "Data columns (total 3 columns):\n",
      "id_reseller    12358 non-null int64\n",
      "zone           12358 non-null int64\n",
      "cluster        12358 non-null object\n",
      "dtypes: int64(2), object(1)\n",
      "memory usage: 289.7+ KB\n"
     ]
    }
   ],
   "source": [
    "df_r.info()"
   ]
  },
  {
   "cell_type": "code",
   "execution_count": 8,
   "metadata": {},
   "outputs": [
    {
     "data": {
      "text/html": [
       "<div>\n",
       "<style scoped>\n",
       "    .dataframe tbody tr th:only-of-type {\n",
       "        vertical-align: middle;\n",
       "    }\n",
       "\n",
       "    .dataframe tbody tr th {\n",
       "        vertical-align: top;\n",
       "    }\n",
       "\n",
       "    .dataframe thead th {\n",
       "        text-align: right;\n",
       "    }\n",
       "</style>\n",
       "<table border=\"1\" class=\"dataframe\">\n",
       "  <thead>\n",
       "    <tr style=\"text-align: right;\">\n",
       "      <th></th>\n",
       "      <th>id_reseller</th>\n",
       "      <th>date</th>\n",
       "      <th>bill</th>\n",
       "    </tr>\n",
       "  </thead>\n",
       "  <tbody>\n",
       "    <tr>\n",
       "      <th>0</th>\n",
       "      <td>499921233</td>\n",
       "      <td>2019-01-02</td>\n",
       "      <td>466262.394</td>\n",
       "    </tr>\n",
       "    <tr>\n",
       "      <th>1</th>\n",
       "      <td>499921233</td>\n",
       "      <td>2019-01-04</td>\n",
       "      <td>99863.286</td>\n",
       "    </tr>\n",
       "    <tr>\n",
       "      <th>2</th>\n",
       "      <td>499921233</td>\n",
       "      <td>2019-01-21</td>\n",
       "      <td>234931.982</td>\n",
       "    </tr>\n",
       "    <tr>\n",
       "      <th>3</th>\n",
       "      <td>499921233</td>\n",
       "      <td>2019-01-23</td>\n",
       "      <td>127180.938</td>\n",
       "    </tr>\n",
       "    <tr>\n",
       "      <th>4</th>\n",
       "      <td>499921233</td>\n",
       "      <td>2019-01-28</td>\n",
       "      <td>335067.312</td>\n",
       "    </tr>\n",
       "  </tbody>\n",
       "</table>\n",
       "</div>"
      ],
      "text/plain": [
       "   id_reseller        date        bill\n",
       "0    499921233  2019-01-02  466262.394\n",
       "1    499921233  2019-01-04   99863.286\n",
       "2    499921233  2019-01-21  234931.982\n",
       "3    499921233  2019-01-23  127180.938\n",
       "4    499921233  2019-01-28  335067.312"
      ]
     },
     "execution_count": 8,
     "metadata": {},
     "output_type": "execute_result"
    }
   ],
   "source": [
    "df.head()"
   ]
  },
  {
   "cell_type": "code",
   "execution_count": 9,
   "metadata": {},
   "outputs": [
    {
     "data": {
      "text/html": [
       "<div>\n",
       "<style scoped>\n",
       "    .dataframe tbody tr th:only-of-type {\n",
       "        vertical-align: middle;\n",
       "    }\n",
       "\n",
       "    .dataframe tbody tr th {\n",
       "        vertical-align: top;\n",
       "    }\n",
       "\n",
       "    .dataframe thead th {\n",
       "        text-align: right;\n",
       "    }\n",
       "</style>\n",
       "<table border=\"1\" class=\"dataframe\">\n",
       "  <thead>\n",
       "    <tr style=\"text-align: right;\">\n",
       "      <th></th>\n",
       "      <th>id_reseller</th>\n",
       "      <th>zone</th>\n",
       "      <th>cluster</th>\n",
       "    </tr>\n",
       "  </thead>\n",
       "  <tbody>\n",
       "    <tr>\n",
       "      <th>0</th>\n",
       "      <td>499929090</td>\n",
       "      <td>1019</td>\n",
       "      <td>A</td>\n",
       "    </tr>\n",
       "    <tr>\n",
       "      <th>1</th>\n",
       "      <td>499929094</td>\n",
       "      <td>1019</td>\n",
       "      <td>A</td>\n",
       "    </tr>\n",
       "    <tr>\n",
       "      <th>2</th>\n",
       "      <td>499929097</td>\n",
       "      <td>1019</td>\n",
       "      <td>A</td>\n",
       "    </tr>\n",
       "    <tr>\n",
       "      <th>3</th>\n",
       "      <td>499929098</td>\n",
       "      <td>1019</td>\n",
       "      <td>A</td>\n",
       "    </tr>\n",
       "    <tr>\n",
       "      <th>4</th>\n",
       "      <td>499929163</td>\n",
       "      <td>1014</td>\n",
       "      <td>A</td>\n",
       "    </tr>\n",
       "  </tbody>\n",
       "</table>\n",
       "</div>"
      ],
      "text/plain": [
       "   id_reseller  zone cluster\n",
       "0    499929090  1019       A\n",
       "1    499929094  1019       A\n",
       "2    499929097  1019       A\n",
       "3    499929098  1019       A\n",
       "4    499929163  1014       A"
      ]
     },
     "execution_count": 9,
     "metadata": {},
     "output_type": "execute_result"
    }
   ],
   "source": [
    "df_r.head()"
   ]
  },
  {
   "cell_type": "code",
   "execution_count": 10,
   "metadata": {},
   "outputs": [],
   "source": [
    "df['date'] = pd.to_datetime(df['date'])"
   ]
  },
  {
   "cell_type": "code",
   "execution_count": 11,
   "metadata": {},
   "outputs": [
    {
     "name": "stdout",
     "output_type": "stream",
     "text": [
      "2019-01-02 00:00:00 2019-05-21 00:00:00\n"
     ]
    }
   ],
   "source": [
    "print(df['date'].min(),df['date'].max())"
   ]
  },
  {
   "cell_type": "markdown",
   "metadata": {},
   "source": [
    "So, we have 467729 purchases from 12358 different resellers ranging from 2019-01-02 to 2019-05-21. Let's see the average bill."
   ]
  },
  {
   "cell_type": "code",
   "execution_count": 12,
   "metadata": {},
   "outputs": [
    {
     "data": {
      "text/plain": [
       "0.1    2.424430e+03\n",
       "0.5    6.744313e+03\n",
       "0.9    2.892412e+04\n",
       "1.0    1.952347e+07\n",
       "Name: bill, dtype: float64"
      ]
     },
     "execution_count": 12,
     "metadata": {},
     "output_type": "execute_result"
    }
   ],
   "source": [
    "df['bill'].quantile([.1, .5, .9, 1])\n"
   ]
  },
  {
   "cell_type": "code",
   "execution_count": 13,
   "metadata": {},
   "outputs": [
    {
     "data": {
      "image/png": "[encoded data removed]",
      "text/plain": [
       "<Figure size 432x288 with 1 Axes>"
      ]
     },
     "metadata": {},
     "output_type": "display_data"
    }
   ],
   "source": [
    "plt.hist(df['bill']);"
   ]
  },
  {
   "cell_type": "markdown",
   "metadata": {},
   "source": [
    "Ignoring the outliers, we still hace a long tail distribution."
   ]
  },
  {
   "cell_type": "code",
   "execution_count": 14,
   "metadata": {},
   "outputs": [
    {
     "data": {
      "image/png": "[encoded data removed]",
      "text/plain": [
       "<Figure size 432x288 with 1 Axes>"
      ]
     },
     "metadata": {},
     "output_type": "display_data"
    }
   ],
   "source": [
    "plt.hist(df[df[\"bill\"] < df[\"bill\"].quantile(0.95)]['bill']);"
   ]
  },
  {
   "cell_type": "markdown",
   "metadata": {},
   "source": [
    "### Mean by day\n",
    "\n",
    "Let's also analyse the mean by day to see if there's a trend or pattern in time"
   ]
  },
  {
   "cell_type": "code",
   "execution_count": 15,
   "metadata": {},
   "outputs": [
    {
     "data": {
      "image/png": "[encoded data removed]",
      "text/plain": [
       "<Figure size 432x288 with 1 Axes>"
      ]
     },
     "metadata": {},
     "output_type": "display_data"
    }
   ],
   "source": [
    "df_mean_by_day = df.groupby('date')['bill'].mean()\n",
    "plt.plot(df_mean_by_day);"
   ]
  },
  {
   "cell_type": "code",
   "execution_count": null,
   "metadata": {},
   "outputs": [],
   "source": []
  }
 ],
 "metadata": {
  "kernelspec": {
   "display_name": "conda_python3",
   "language": "python",
   "name": "conda_python3"
  },
  "language_info": {
   "codemirror_mode": {
    "name": "ipython",
    "version": 3
   },
   "file_extension": ".py",
   "mimetype": "text/x-python",
   "name": "python",
   "nbconvert_exporter": "python",
   "pygments_lexer": "ipython3",
   "version": "3.6.5"
  }
 },
 "nbformat": 4,
 "nbformat_minor": 2
}
