{
 "cells": [
  {
   "cell_type": "markdown",
   "metadata": {},
   "source": [
    "## Batch Transform\n",
    "\n",
    "Now we are going to use \"today's\" features to create predictions, that the business unit is going to use as an input for promotions. \n",
    "\n",
    "For this, we are going to deploy the model created on the best training job from the hyperparameter tunning job and use the resulting endpoint for inference. "
   ]
  },
  {
   "cell_type": "code",
   "execution_count": 1,
   "metadata": {},
   "outputs": [],
   "source": [
    "import sagemaker\n",
    "import boto3\n",
    "from sagemaker.estimator import Estimator\n",
    "from sagemaker.tuner import HyperparameterTuner\n",
    "import numpy as np                                # For matrix operations and numerical processing\n",
    "import pandas as pd                               # For munging tabular data\n",
    "import os \n",
    "import time\n",
    "from sagemaker.predictor import csv_serializer,RealTimePredictor\n",
    "\n",
    "# take the best training job from notebook #3\n",
    "best_training_job = 'forecast-vtas-190702-1408-004-46a4c8e2'"
   ]
  },
  {
   "cell_type": "code",
   "execution_count": 13,
   "metadata": {},
   "outputs": [],
   "source": [
    "df = pd.read_csv('to_predict.csv',header=None)"
   ]
  },
  {
   "cell_type": "code",
   "execution_count": 19,
   "metadata": {},
   "outputs": [
    {
     "data": {
      "text/plain": [
       "(12347, 69)"
      ]
     },
     "execution_count": 19,
     "metadata": {},
     "output_type": "execute_result"
    }
   ],
   "source": [
    "df.shape"
   ]
  },
  {
   "cell_type": "code",
   "execution_count": 15,
   "metadata": {},
   "outputs": [],
   "source": [
    "id_reseller = pd.read_csv('id_reseller_to_predict.csv',header=None)[0]"
   ]
  },
  {
   "cell_type": "code",
   "execution_count": 17,
   "metadata": {},
   "outputs": [
    {
     "data": {
      "text/plain": [
       "(12347,)"
      ]
     },
     "execution_count": 17,
     "metadata": {},
     "output_type": "execute_result"
    }
   ],
   "source": [
    "id_reseller.shape"
   ]
  },
  {
   "cell_type": "code",
   "execution_count": 3,
   "metadata": {},
   "outputs": [
    {
     "name": "stdout",
     "output_type": "stream",
     "text": [
      "2019-07-02 14:16:52 Starting - Preparing the instances for training\n",
      "2019-07-02 14:16:52 Downloading - Downloading input data\n",
      "2019-07-02 14:16:52 Training - Training image download completed. Training in progress.\n",
      "2019-07-02 14:16:52 Uploading - Uploading generated training model\n",
      "2019-07-02 14:16:52 Completed - Training job completed\u001b[31mArguments: train\u001b[0m\n",
      "\u001b[31m[2019-07-02:14:11:42:INFO] Running standalone xgboost training.\u001b[0m\n",
      "\u001b[31m[2019-07-02:14:11:42:INFO] Setting up HPO optimized metric to be : mae\u001b[0m\n",
      "\u001b[31m[2019-07-02:14:11:42:INFO] File size need to be processed in the node: 283.91mb. Available memory size in the node: 8448.75mb\u001b[0m\n",
      "\u001b[31m[2019-07-02:14:11:42:INFO] Determined delimiter of CSV input is ','\u001b[0m\n",
      "\u001b[31m[14:11:42] S3DistributionType set as FullyReplicated\u001b[0m\n",
      "\u001b[31m[14:11:44] 825465x69 matrix with 56922242 entries loaded from /opt/ml/input/data/train?format=csv&label_column=0&delimiter=,\u001b[0m\n",
      "\u001b[31m[2019-07-02:14:11:44:INFO] Determined delimiter of CSV input is ','\u001b[0m\n",
      "\u001b[31m[14:11:44] S3DistributionType set as FullyReplicated\u001b[0m\n",
      "\u001b[31m[14:11:44] 87264x69 matrix with 6016596 entries loaded from /opt/ml/input/data/validation?format=csv&label_column=0&delimiter=,\u001b[0m\n",
      "\u001b[31m[14:11:48] src/tree/updater_prune.cc:74: tree pruning end, 1 roots, 2012 extra nodes, 0 pruned nodes, max_depth=12\u001b[0m\n",
      "\u001b[31m[0]#011train-mae:13383.1#011validation-mae:16664.8\u001b[0m\n",
      "\u001b[31m[14:11:51] src/tree/updater_prune.cc:74: tree pruning end, 1 roots, 1914 extra nodes, 0 pruned nodes, max_depth=12\u001b[0m\n",
      "\u001b[31m[1]#011train-mae:9719.13#011validation-mae:12971.4\u001b[0m\n",
      "\u001b[31m[14:11:55] src/tree/updater_prune.cc:74: tree pruning end, 1 roots, 1812 extra nodes, 0 pruned nodes, max_depth=12\u001b[0m\n",
      "\u001b[31m[2]#011train-mae:8082.2#011validation-mae:11610.4\u001b[0m\n",
      "\u001b[31m[14:11:58] src/tree/updater_prune.cc:74: tree pruning end, 1 roots, 1524 extra nodes, 0 pruned nodes, max_depth=12\u001b[0m\n",
      "\u001b[31m[3]#011train-mae:7386.35#011validation-mae:11188\u001b[0m\n",
      "\u001b[31m[14:12:01] src/tree/updater_prune.cc:74: tree pruning end, 1 roots, 1196 extra nodes, 0 pruned nodes, max_depth=12\u001b[0m\n",
      "\u001b[31m[4]#011train-mae:7082.94#011validation-mae:11246.5\u001b[0m\n",
      "\u001b[31m[14:12:04] src/tree/updater_prune.cc:74: tree pruning end, 1 roots, 1042 extra nodes, 0 pruned nodes, max_depth=12\u001b[0m\n",
      "\u001b[31m[5]#011train-mae:6933.14#011validation-mae:11353.4\u001b[0m\n",
      "\u001b[31m[14:12:07] src/tree/updater_prune.cc:74: tree pruning end, 1 roots, 542 extra nodes, 0 pruned nodes, max_depth=12\u001b[0m\n",
      "\u001b[31m[6]#011train-mae:6898#011validation-mae:11413.6\u001b[0m\n",
      "\u001b[31m[14:12:10] src/tree/updater_prune.cc:74: tree pruning end, 1 roots, 438 extra nodes, 0 pruned nodes, max_depth=12\u001b[0m\n",
      "\u001b[31m[7]#011train-mae:6826.29#011validation-mae:11577.4\u001b[0m\n",
      "\u001b[31m[14:12:13] src/tree/updater_prune.cc:74: tree pruning end, 1 roots, 78 extra nodes, 0 pruned nodes, max_depth=12\u001b[0m\n",
      "\u001b[31m[8]#011train-mae:6822.82#011validation-mae:11648.8\u001b[0m\n",
      "\u001b[31m[14:12:16] src/tree/updater_prune.cc:74: tree pruning end, 1 roots, 154 extra nodes, 0 pruned nodes, max_depth=12\u001b[0m\n",
      "\u001b[31m[9]#011train-mae:6795.67#011validation-mae:11721.7\u001b[0m\n",
      "\u001b[31m[14:12:19] src/tree/updater_prune.cc:74: tree pruning end, 1 roots, 116 extra nodes, 0 pruned nodes, max_depth=12\u001b[0m\n",
      "\u001b[31m[10]#011train-mae:6768.85#011validation-mae:11764.2\u001b[0m\n",
      "\u001b[31m[14:12:22] src/tree/updater_prune.cc:74: tree pruning end, 1 roots, 76 extra nodes, 0 pruned nodes, max_depth=12\u001b[0m\n",
      "\u001b[31m[11]#011train-mae:6750.11#011validation-mae:11750.3\u001b[0m\n",
      "\u001b[31m[14:12:25] src/tree/updater_prune.cc:74: tree pruning end, 1 roots, 48 extra nodes, 0 pruned nodes, max_depth=12\u001b[0m\n",
      "\u001b[31m[12]#011train-mae:6739.53#011validation-mae:11806.7\u001b[0m\n",
      "\u001b[31m[14:12:28] src/tree/updater_prune.cc:74: tree pruning end, 1 roots, 150 extra nodes, 0 pruned nodes, max_depth=12\u001b[0m\n",
      "\u001b[31m[13]#011train-mae:6722.24#011validation-mae:11779\u001b[0m\n",
      "\u001b[31m[14:12:31] src/tree/updater_prune.cc:74: tree pruning end, 1 roots, 64 extra nodes, 0 pruned nodes, max_depth=12\u001b[0m\n",
      "\u001b[31m[14]#011train-mae:6712.07#011validation-mae:11822.4\u001b[0m\n",
      "\u001b[31m[14:12:34] src/tree/updater_prune.cc:74: tree pruning end, 1 roots, 42 extra nodes, 0 pruned nodes, max_depth=12\u001b[0m\n",
      "\u001b[31m[15]#011train-mae:6702.95#011validation-mae:11813.4\u001b[0m\n",
      "\u001b[31m[14:12:36] src/tree/updater_prune.cc:74: tree pruning end, 1 roots, 124 extra nodes, 0 pruned nodes, max_depth=12\u001b[0m\n",
      "\u001b[31m[16]#011train-mae:6675.52#011validation-mae:11793.4\u001b[0m\n",
      "\u001b[31m[14:12:39] src/tree/updater_prune.cc:74: tree pruning end, 1 roots, 56 extra nodes, 0 pruned nodes, max_depth=12\u001b[0m\n",
      "\u001b[31m[17]#011train-mae:6654.55#011validation-mae:11802.7\u001b[0m\n",
      "\u001b[31m[14:12:42] src/tree/updater_prune.cc:74: tree pruning end, 1 roots, 64 extra nodes, 0 pruned nodes, max_depth=12\u001b[0m\n",
      "\u001b[31m[18]#011train-mae:6639.65#011validation-mae:11855.6\u001b[0m\n",
      "\u001b[31m[14:12:45] src/tree/updater_prune.cc:74: tree pruning end, 1 roots, 184 extra nodes, 0 pruned nodes, max_depth=12\u001b[0m\n",
      "\u001b[31m[19]#011train-mae:6582.52#011validation-mae:11807.5\u001b[0m\n",
      "\u001b[31m[14:12:48] src/tree/updater_prune.cc:74: tree pruning end, 1 roots, 86 extra nodes, 0 pruned nodes, max_depth=12\u001b[0m\n",
      "\u001b[31m[20]#011train-mae:6561.26#011validation-mae:11773.2\u001b[0m\n",
      "\u001b[31m[14:12:51] src/tree/updater_prune.cc:74: tree pruning end, 1 roots, 82 extra nodes, 0 pruned nodes, max_depth=12\u001b[0m\n",
      "\u001b[31m[21]#011train-mae:6546.29#011validation-mae:11773.3\u001b[0m\n",
      "\u001b[31m[14:12:54] src/tree/updater_prune.cc:74: tree pruning end, 1 roots, 86 extra nodes, 0 pruned nodes, max_depth=12\u001b[0m\n",
      "\u001b[31m[22]#011train-mae:6535.83#011validation-mae:11813.1\u001b[0m\n",
      "\u001b[31m[14:12:57] src/tree/updater_prune.cc:74: tree pruning end, 1 roots, 62 extra nodes, 0 pruned nodes, max_depth=12\u001b[0m\n",
      "\u001b[31m[23]#011train-mae:6524.28#011validation-mae:11830.2\u001b[0m\n",
      "\u001b[31m[14:12:59] src/tree/updater_prune.cc:74: tree pruning end, 1 roots, 82 extra nodes, 0 pruned nodes, max_depth=12\u001b[0m\n",
      "\u001b[31m[24]#011train-mae:6510.34#011validation-mae:11793.6\u001b[0m\n",
      "\u001b[31m[14:13:02] src/tree/updater_prune.cc:74: tree pruning end, 1 roots, 136 extra nodes, 0 pruned nodes, max_depth=12\u001b[0m\n",
      "\u001b[31m[25]#011train-mae:6478.96#011validation-mae:11802.1\u001b[0m\n",
      "\u001b[31m[14:13:05] src/tree/updater_prune.cc:74: tree pruning end, 1 roots, 152 extra nodes, 0 pruned nodes, max_depth=12\u001b[0m\n",
      "\u001b[31m[26]#011train-mae:6455.73#011validation-mae:11789.7\u001b[0m\n",
      "\u001b[31m[14:13:08] src/tree/updater_prune.cc:74: tree pruning end, 1 roots, 54 extra nodes, 0 pruned nodes, max_depth=12\u001b[0m\n",
      "\u001b[31m[27]#011train-mae:6446.66#011validation-mae:11831.1\u001b[0m\n",
      "\u001b[31m[14:13:11] src/tree/updater_prune.cc:74: tree pruning end, 1 roots, 62 extra nodes, 0 pruned nodes, max_depth=12\u001b[0m\n",
      "\u001b[31m[28]#011train-mae:6441.84#011validation-mae:11875.1\u001b[0m\n",
      "\u001b[31m[14:13:14] src/tree/updater_prune.cc:74: tree pruning end, 1 roots, 72 extra nodes, 0 pruned nodes, max_depth=12\u001b[0m\n",
      "\u001b[31m[29]#011train-mae:6432.84#011validation-mae:11877\u001b[0m\n",
      "\u001b[31m[14:13:17] src/tree/updater_prune.cc:74: tree pruning end, 1 roots, 52 extra nodes, 0 pruned nodes, max_depth=12\u001b[0m\n",
      "\u001b[31m[30]#011train-mae:6420.85#011validation-mae:11863.5\u001b[0m\n",
      "\u001b[31m[14:13:20] src/tree/updater_prune.cc:74: tree pruning end, 1 roots, 142 extra nodes, 0 pruned nodes, max_depth=12\u001b[0m\n",
      "\u001b[31m[31]#011train-mae:6403.87#011validation-mae:11854\u001b[0m\n",
      "\u001b[31m[14:13:22] src/tree/updater_prune.cc:74: tree pruning end, 1 roots, 46 extra nodes, 0 pruned nodes, max_depth=12\u001b[0m\n",
      "\u001b[31m[32]#011train-mae:6397.49#011validation-mae:11834.1\u001b[0m\n",
      "\u001b[31m[14:13:25] src/tree/updater_prune.cc:74: tree pruning end, 1 roots, 104 extra nodes, 0 pruned nodes, max_depth=12\u001b[0m\n",
      "\u001b[31m[33]#011train-mae:6381.67#011validation-mae:11834.3\u001b[0m\n",
      "\u001b[31m[14:13:28] src/tree/updater_prune.cc:74: tree pruning end, 1 roots, 128 extra nodes, 0 pruned nodes, max_depth=12\u001b[0m\n",
      "\u001b[31m[34]#011train-mae:6359.22#011validation-mae:11832.6\u001b[0m\n",
      "\u001b[31m[14:13:31] src/tree/updater_prune.cc:74: tree pruning end, 1 roots, 150 extra nodes, 0 pruned nodes, max_depth=12\u001b[0m\n",
      "\u001b[31m[35]#011train-mae:6343.13#011validation-mae:11840.9\u001b[0m\n",
      "\u001b[31m[14:13:34] src/tree/updater_prune.cc:74: tree pruning end, 1 roots, 92 extra nodes, 0 pruned nodes, max_depth=12\u001b[0m\n",
      "\u001b[31m[36]#011train-mae:6325.62#011validation-mae:11868.3\u001b[0m\n",
      "\u001b[31m[14:13:37] src/tree/updater_prune.cc:74: tree pruning end, 1 roots, 110 extra nodes, 0 pruned nodes, max_depth=12\u001b[0m\n",
      "\u001b[31m[37]#011train-mae:6314.5#011validation-mae:11891.1\u001b[0m\n",
      "\u001b[31m[14:13:40] src/tree/updater_prune.cc:74: tree pruning end, 1 roots, 106 extra nodes, 0 pruned nodes, max_depth=12\u001b[0m\n",
      "\u001b[31m[38]#011train-mae:6302.59#011validation-mae:11895.4\u001b[0m\n",
      "\u001b[31m[14:13:43] src/tree/updater_prune.cc:74: tree pruning end, 1 roots, 38 extra nodes, 0 pruned nodes, max_depth=12\u001b[0m\n",
      "\u001b[31m[39]#011train-mae:6298.39#011validation-mae:11907.9\u001b[0m\n",
      "\u001b[31m[14:13:45] src/tree/updater_prune.cc:74: tree pruning end, 1 roots, 120 extra nodes, 0 pruned nodes, max_depth=12\u001b[0m\n",
      "\u001b[31m[40]#011train-mae:6286.09#011validation-mae:11941.7\u001b[0m\n",
      "\u001b[31m[14:13:48] src/tree/updater_prune.cc:74: tree pruning end, 1 roots, 100 extra nodes, 0 pruned nodes, max_depth=12\u001b[0m\n",
      "\u001b[31m[41]#011train-mae:6276.21#011validation-mae:11973.6\u001b[0m\n",
      "\u001b[31m[14:13:51] src/tree/updater_prune.cc:74: tree pruning end, 1 roots, 144 extra nodes, 0 pruned nodes, max_depth=12\u001b[0m\n",
      "\u001b[31m[42]#011train-mae:6257.66#011validation-mae:11978.4\u001b[0m\n",
      "\u001b[31m[14:13:54] src/tree/updater_prune.cc:74: tree pruning end, 1 roots, 74 extra nodes, 0 pruned nodes, max_depth=12\u001b[0m\n",
      "\u001b[31m[43]#011train-mae:6248.97#011validation-mae:11938\u001b[0m\n",
      "\u001b[31m[14:13:57] src/tree/updater_prune.cc:74: tree pruning end, 1 roots, 202 extra nodes, 0 pruned nodes, max_depth=12\u001b[0m\n",
      "\u001b[31m[44]#011train-mae:6225.02#011validation-mae:11947.4\u001b[0m\n",
      "\u001b[31m[14:14:00] src/tree/updater_prune.cc:74: tree pruning end, 1 roots, 112 extra nodes, 0 pruned nodes, max_depth=12\u001b[0m\n",
      "\u001b[31m[45]#011train-mae:6217.6#011validation-mae:11934.3\u001b[0m\n",
      "\u001b[31m[14:14:03] src/tree/updater_prune.cc:74: tree pruning end, 1 roots, 188 extra nodes, 0 pruned nodes, max_depth=12\u001b[0m\n",
      "\u001b[31m[46]#011train-mae:6194.66#011validation-mae:11971\u001b[0m\n",
      "\u001b[31m[14:14:06] src/tree/updater_prune.cc:74: tree pruning end, 1 roots, 158 extra nodes, 0 pruned nodes, max_depth=12\u001b[0m\n",
      "\u001b[31m[47]#011train-mae:6181.27#011validation-mae:11962.7\u001b[0m\n",
      "\u001b[31m[14:14:09] src/tree/updater_prune.cc:74: tree pruning end, 1 roots, 194 extra nodes, 0 pruned nodes, max_depth=12\u001b[0m\n",
      "\u001b[31m[48]#011train-mae:6156.33#011validation-mae:11965.8\u001b[0m\n",
      "\u001b[31m[14:14:11] src/tree/updater_prune.cc:74: tree pruning end, 1 roots, 94 extra nodes, 0 pruned nodes, max_depth=12\u001b[0m\n",
      "\u001b[31m[49]#011train-mae:6149.91#011validation-mae:11970.5\u001b[0m\n",
      "\u001b[31m[14:14:14] src/tree/updater_prune.cc:74: tree pruning end, 1 roots, 98 extra nodes, 0 pruned nodes, max_depth=12\u001b[0m\n",
      "\u001b[31m[50]#011train-mae:6140.76#011validation-mae:11946.2\u001b[0m\n",
      "\u001b[31m[14:14:17] src/tree/updater_prune.cc:74: tree pruning end, 1 roots, 220 extra nodes, 0 pruned nodes, max_depth=12\u001b[0m\n",
      "\u001b[31m[51]#011train-mae:6106.12#011validation-mae:11945\u001b[0m\n",
      "\u001b[31m[14:14:20] src/tree/updater_prune.cc:74: tree pruning end, 1 roots, 112 extra nodes, 0 pruned nodes, max_depth=12\u001b[0m\n",
      "\u001b[31m[52]#011train-mae:6098.25#011validation-mae:11957.6\u001b[0m\n",
      "\u001b[31m[14:14:23] src/tree/updater_prune.cc:74: tree pruning end, 1 roots, 102 extra nodes, 0 pruned nodes, max_depth=12\u001b[0m\n",
      "\u001b[31m[53]#011train-mae:6090.03#011validation-mae:11981.7\u001b[0m\n",
      "\u001b[31m[14:14:26] src/tree/updater_prune.cc:74: tree pruning end, 1 roots, 176 extra nodes, 0 pruned nodes, max_depth=12\u001b[0m\n",
      "\u001b[31m[54]#011train-mae:6071.25#011validation-mae:11973.2\u001b[0m\n",
      "\u001b[31m[14:14:29] src/tree/updater_prune.cc:74: tree pruning end, 1 roots, 94 extra nodes, 0 pruned nodes, max_depth=12\u001b[0m\n",
      "\u001b[31m[55]#011train-mae:6065.62#011validation-mae:11978.8\u001b[0m\n",
      "\u001b[31m[14:14:32] src/tree/updater_prune.cc:74: tree pruning end, 1 roots, 80 extra nodes, 0 pruned nodes, max_depth=12\u001b[0m\n",
      "\u001b[31m[56]#011train-mae:6056.62#011validation-mae:11979.9\u001b[0m\n",
      "\u001b[31m[14:14:35] src/tree/updater_prune.cc:74: tree pruning end, 1 roots, 108 extra nodes, 0 pruned nodes, max_depth=12\u001b[0m\n",
      "\u001b[31m[57]#011train-mae:6049.71#011validation-mae:11975.9\u001b[0m\n",
      "\u001b[31m[14:14:37] src/tree/updater_prune.cc:74: tree pruning end, 1 roots, 152 extra nodes, 0 pruned nodes, max_depth=12\u001b[0m\n",
      "\u001b[31m[58]#011train-mae:6035.29#011validation-mae:11983.4\u001b[0m\n",
      "\u001b[31m[14:14:40] src/tree/updater_prune.cc:74: tree pruning end, 1 roots, 180 extra nodes, 0 pruned nodes, max_depth=12\u001b[0m\n",
      "\u001b[31m[59]#011train-mae:6018.65#011validation-mae:11985.2\u001b[0m\n",
      "\u001b[31m[14:14:43] src/tree/updater_prune.cc:74: tree pruning end, 1 roots, 350 extra nodes, 0 pruned nodes, max_depth=12\u001b[0m\n",
      "\u001b[31m[60]#011train-mae:5972.66#011validation-mae:12034.8\u001b[0m\n",
      "\u001b[31m[14:14:46] src/tree/updater_prune.cc:74: tree pruning end, 1 roots, 68 extra nodes, 0 pruned nodes, max_depth=12\u001b[0m\n",
      "\u001b[31m[61]#011train-mae:5970.78#011validation-mae:12042.8\u001b[0m\n",
      "\u001b[31m[14:14:49] src/tree/updater_prune.cc:74: tree pruning end, 1 roots, 118 extra nodes, 0 pruned nodes, max_depth=12\u001b[0m\n",
      "\u001b[31m[62]#011train-mae:5963.86#011validation-mae:12036.3\u001b[0m\n",
      "\u001b[31m[14:14:52] src/tree/updater_prune.cc:74: tree pruning end, 1 roots, 176 extra nodes, 0 pruned nodes, max_depth=12\u001b[0m\n",
      "\u001b[31m[63]#011train-mae:5950.88#011validation-mae:12043.4\u001b[0m\n",
      "\u001b[31m[14:14:55] src/tree/updater_prune.cc:74: tree pruning end, 1 roots, 176 extra nodes, 0 pruned nodes, max_depth=12\u001b[0m\n",
      "\u001b[31m[64]#011train-mae:5942.85#011validation-mae:12052.9\u001b[0m\n",
      "\u001b[31m[14:14:58] src/tree/updater_prune.cc:74: tree pruning end, 1 roots, 106 extra nodes, 0 pruned nodes, max_depth=12\u001b[0m\n",
      "\u001b[31m[65]#011train-mae:5933.2#011validation-mae:12055.1\u001b[0m\n",
      "\u001b[31m[14:15:01] src/tree/updater_prune.cc:74: tree pruning end, 1 roots, 82 extra nodes, 0 pruned nodes, max_depth=12\u001b[0m\n",
      "\u001b[31m[66]#011train-mae:5927.74#011validation-mae:12046.2\u001b[0m\n",
      "\u001b[31m[14:15:04] src/tree/updater_prune.cc:74: tree pruning end, 1 roots, 264 extra nodes, 0 pruned nodes, max_depth=12\u001b[0m\n",
      "\u001b[31m[67]#011train-mae:5908.35#011validation-mae:12062\u001b[0m\n",
      "\u001b[31m[14:15:07] src/tree/updater_prune.cc:74: tree pruning end, 1 roots, 138 extra nodes, 0 pruned nodes, max_depth=12\u001b[0m\n",
      "\u001b[31m[68]#011train-mae:5898.1#011validation-mae:12064.4\u001b[0m\n",
      "\u001b[31m[14:15:10] src/tree/updater_prune.cc:74: tree pruning end, 1 roots, 104 extra nodes, 0 pruned nodes, max_depth=12\u001b[0m\n",
      "\u001b[31m[69]#011train-mae:5894.74#011validation-mae:12054.6\u001b[0m\n",
      "\u001b[31m[14:15:12] src/tree/updater_prune.cc:74: tree pruning end, 1 roots, 238 extra nodes, 0 pruned nodes, max_depth=12\u001b[0m\n",
      "\u001b[31m[70]#011train-mae:5874.72#011validation-mae:12061.8\u001b[0m\n",
      "\u001b[31m[14:15:15] src/tree/updater_prune.cc:74: tree pruning end, 1 roots, 82 extra nodes, 0 pruned nodes, max_depth=12\u001b[0m\n",
      "\u001b[31m[71]#011train-mae:5873.03#011validation-mae:12070.2\u001b[0m\n",
      "\u001b[31m[14:15:18] src/tree/updater_prune.cc:74: tree pruning end, 1 roots, 74 extra nodes, 0 pruned nodes, max_depth=12\u001b[0m\n",
      "\u001b[31m[72]#011train-mae:5868.98#011validation-mae:12061\u001b[0m\n",
      "\u001b[31m[14:15:21] src/tree/updater_prune.cc:74: tree pruning end, 1 roots, 286 extra nodes, 0 pruned nodes, max_depth=12\u001b[0m\n",
      "\u001b[31m[73]#011train-mae:5839.48#011validation-mae:12080.8\u001b[0m\n",
      "\u001b[31m[14:15:24] src/tree/updater_prune.cc:74: tree pruning end, 1 roots, 118 extra nodes, 0 pruned nodes, max_depth=12\u001b[0m\n",
      "\u001b[31m[74]#011train-mae:5829.84#011validation-mae:12071\u001b[0m\n",
      "\u001b[31m[14:15:27] src/tree/updater_prune.cc:74: tree pruning end, 1 roots, 182 extra nodes, 0 pruned nodes, max_depth=12\u001b[0m\n",
      "\u001b[31m[75]#011train-mae:5820#011validation-mae:12067.6\u001b[0m\n",
      "\u001b[31m[14:15:30] src/tree/updater_prune.cc:74: tree pruning end, 1 roots, 246 extra nodes, 0 pruned nodes, max_depth=12\u001b[0m\n",
      "\u001b[31m[76]#011train-mae:5798.23#011validation-mae:12070.4\u001b[0m\n",
      "\u001b[31m[14:15:33] src/tree/updater_prune.cc:74: tree pruning end, 1 roots, 146 extra nodes, 0 pruned nodes, max_depth=12\u001b[0m\n",
      "\u001b[31m[77]#011train-mae:5790.47#011validation-mae:12051.6\u001b[0m\n",
      "\u001b[31m[14:15:36] src/tree/updater_prune.cc:74: tree pruning end, 1 roots, 124 extra nodes, 0 pruned nodes, max_depth=12\u001b[0m\n",
      "\u001b[31m[78]#011train-mae:5782.35#011validation-mae:12038\u001b[0m\n",
      "\u001b[31m[14:15:38] src/tree/updater_prune.cc:74: tree pruning end, 1 roots, 190 extra nodes, 0 pruned nodes, max_depth=12\u001b[0m\n",
      "\u001b[31m[79]#011train-mae:5770.41#011validation-mae:12032.8\u001b[0m\n",
      "\u001b[31m[14:15:41] src/tree/updater_prune.cc:74: tree pruning end, 1 roots, 224 extra nodes, 0 pruned nodes, max_depth=12\u001b[0m\n",
      "\u001b[31m[80]#011train-mae:5756.23#011validation-mae:12013.7\u001b[0m\n",
      "\u001b[31m[14:15:44] src/tree/updater_prune.cc:74: tree pruning end, 1 roots, 230 extra nodes, 0 pruned nodes, max_depth=12\u001b[0m\n",
      "\u001b[31m[81]#011train-mae:5743.31#011validation-mae:12008.9\u001b[0m\n",
      "\u001b[31m[14:15:47] src/tree/updater_prune.cc:74: tree pruning end, 1 roots, 224 extra nodes, 0 pruned nodes, max_depth=12\u001b[0m\n",
      "\u001b[31m[82]#011train-mae:5726.98#011validation-mae:12001.9\u001b[0m\n",
      "\u001b[31m[14:15:50] src/tree/updater_prune.cc:74: tree pruning end, 1 roots, 184 extra nodes, 0 pruned nodes, max_depth=12\u001b[0m\n",
      "\u001b[31m[83]#011train-mae:5713.22#011validation-mae:12021.4\u001b[0m\n",
      "\u001b[31m[14:15:53] src/tree/updater_prune.cc:74: tree pruning end, 1 roots, 152 extra nodes, 0 pruned nodes, max_depth=12\u001b[0m\n",
      "\u001b[31m[84]#011train-mae:5703.46#011validation-mae:12022.6\u001b[0m\n",
      "\u001b[31m[14:15:56] src/tree/updater_prune.cc:74: tree pruning end, 1 roots, 88 extra nodes, 0 pruned nodes, max_depth=12\u001b[0m\n",
      "\u001b[31m[85]#011train-mae:5701.36#011validation-mae:12026.7\u001b[0m\n",
      "\u001b[31m[14:15:59] src/tree/updater_prune.cc:74: tree pruning end, 1 roots, 224 extra nodes, 0 pruned nodes, max_depth=12\u001b[0m\n",
      "\u001b[31m[86]#011train-mae:5690.16#011validation-mae:12018.9\u001b[0m\n",
      "\u001b[31m[14:16:02] src/tree/updater_prune.cc:74: tree pruning end, 1 roots, 242 extra nodes, 0 pruned nodes, max_depth=12\u001b[0m\n",
      "\u001b[31m[87]#011train-mae:5674.34#011validation-mae:12039.6\u001b[0m\n",
      "\u001b[31m[14:16:05] src/tree/updater_prune.cc:74: tree pruning end, 1 roots, 206 extra nodes, 0 pruned nodes, max_depth=12\u001b[0m\n",
      "\u001b[31m[88]#011train-mae:5660.62#011validation-mae:12041.2\u001b[0m\n",
      "\u001b[31m[14:16:07] src/tree/updater_prune.cc:74: tree pruning end, 1 roots, 160 extra nodes, 0 pruned nodes, max_depth=12\u001b[0m\n",
      "\u001b[31m[89]#011train-mae:5654.95#011validation-mae:12031.1\u001b[0m\n",
      "\u001b[31m[14:16:10] src/tree/updater_prune.cc:74: tree pruning end, 1 roots, 154 extra nodes, 0 pruned nodes, max_depth=12\u001b[0m\n",
      "\u001b[31m[90]#011train-mae:5648.08#011validation-mae:12025.3\u001b[0m\n",
      "\u001b[31m[14:16:13] src/tree/updater_prune.cc:74: tree pruning end, 1 roots, 124 extra nodes, 0 pruned nodes, max_depth=12\u001b[0m\n",
      "\u001b[31m[91]#011train-mae:5643.1#011validation-mae:12044.7\u001b[0m\n",
      "\u001b[31m[14:16:16] src/tree/updater_prune.cc:74: tree pruning end, 1 roots, 286 extra nodes, 0 pruned nodes, max_depth=12\u001b[0m\n",
      "\u001b[31m[92]#011train-mae:5625.32#011validation-mae:12049.5\u001b[0m\n",
      "\u001b[31m[14:16:19] src/tree/updater_prune.cc:74: tree pruning end, 1 roots, 160 extra nodes, 0 pruned nodes, max_depth=12\u001b[0m\n",
      "\u001b[31m[93]#011train-mae:5620.51#011validation-mae:12047.9\u001b[0m\n",
      "\u001b[31m[14:16:22] src/tree/updater_prune.cc:74: tree pruning end, 1 roots, 462 extra nodes, 0 pruned nodes, max_depth=12\u001b[0m\n",
      "\u001b[31m[94]#011train-mae:5576.51#011validation-mae:12055.4\u001b[0m\n",
      "\u001b[31m[14:16:25] src/tree/updater_prune.cc:74: tree pruning end, 1 roots, 100 extra nodes, 0 pruned nodes, max_depth=12\u001b[0m\n",
      "\u001b[31m[95]#011train-mae:5573.4#011validation-mae:12050.3\u001b[0m\n",
      "\u001b[31m[14:16:28] src/tree/updater_prune.cc:74: tree pruning end, 1 roots, 302 extra nodes, 0 pruned nodes, max_depth=12\u001b[0m\n",
      "\u001b[31m[96]#011train-mae:5551.44#011validation-mae:12063.4\u001b[0m\n",
      "\u001b[31m[14:16:31] src/tree/updater_prune.cc:74: tree pruning end, 1 roots, 146 extra nodes, 0 pruned nodes, max_depth=12\u001b[0m\n",
      "\u001b[31m[97]#011train-mae:5546.11#011validation-mae:12060.7\u001b[0m\n",
      "\u001b[31m[14:16:33] src/tree/updater_prune.cc:74: tree pruning end, 1 roots, 162 extra nodes, 0 pruned nodes, max_depth=12\u001b[0m\n",
      "\u001b[31m[98]#011train-mae:5531.26#011validation-mae:12059.1\u001b[0m\n",
      "\u001b[31m[14:16:36] src/tree/updater_prune.cc:74: tree pruning end, 1 roots, 130 extra nodes, 0 pruned nodes, max_depth=12\u001b[0m\n",
      "\u001b[31m[99]#011train-mae:5526.22#011validation-mae:12050.9\u001b[0m\n"
     ]
    },
    {
     "name": "stdout",
     "output_type": "stream",
     "text": [
      "Billable seconds: 364\n"
     ]
    }
   ],
   "source": [
    "model = Estimator.attach(best_training_job)"
   ]
  },
  {
   "cell_type": "code",
   "execution_count": 4,
   "metadata": {},
   "outputs": [
    {
     "name": "stdout",
     "output_type": "stream",
     "text": [
      "--------------------------------------------------------------------------------------------------!"
     ]
    }
   ],
   "source": [
    "model_predictor = model.deploy(initial_instance_count=1,\n",
    "                            instance_type='ml.m4.xlarge')"
   ]
  },
  {
   "cell_type": "code",
   "execution_count": null,
   "metadata": {},
   "outputs": [],
   "source": [
    "#model_predictor = RealTimePredictor('forecast-vtas-190528-2006-003-486b05ad')"
   ]
  },
  {
   "cell_type": "code",
   "execution_count": 5,
   "metadata": {},
   "outputs": [],
   "source": [
    "model_predictor.content_type = 'text/csv'\n",
    "model_predictor.serializer = csv_serializer\n",
    "model_predictor.deserializer = None"
   ]
  },
  {
   "cell_type": "code",
   "execution_count": 27,
   "metadata": {},
   "outputs": [],
   "source": [
    "def predict(data, rows=500):\n",
    "    split_array = np.array_split(data, int(data.shape[0] / float(rows) + 1))\n",
    "    predictions = ''\n",
    "    for array in split_array:\n",
    "        predictions = ','.join([predictions, model_predictor.predict(array).decode('utf-8')])\n",
    "\n",
    "    return np.fromstring(predictions[1:], sep=',')\n",
    "\n",
    "predictions = predict(df.as_matrix())"
   ]
  },
  {
   "cell_type": "code",
   "execution_count": 28,
   "metadata": {},
   "outputs": [
    {
     "data": {
      "text/plain": [
       "(12347,)"
      ]
     },
     "execution_count": 28,
     "metadata": {},
     "output_type": "execute_result"
    }
   ],
   "source": [
    "predictions.shape"
   ]
  },
  {
   "cell_type": "code",
   "execution_count": 29,
   "metadata": {},
   "outputs": [],
   "source": [
    "df_predictions  = pd.DataFrame({'id_reseller':id_reseller,'prediction':predictions})"
   ]
  },
  {
   "cell_type": "code",
   "execution_count": 30,
   "metadata": {},
   "outputs": [
    {
     "data": {
      "text/html": [
       "<div>\n",
       "<style scoped>\n",
       "    .dataframe tbody tr th:only-of-type {\n",
       "        vertical-align: middle;\n",
       "    }\n",
       "\n",
       "    .dataframe tbody tr th {\n",
       "        vertical-align: top;\n",
       "    }\n",
       "\n",
       "    .dataframe thead th {\n",
       "        text-align: right;\n",
       "    }\n",
       "</style>\n",
       "<table border=\"1\" class=\"dataframe\">\n",
       "  <thead>\n",
       "    <tr style=\"text-align: right;\">\n",
       "      <th></th>\n",
       "      <th>id_reseller</th>\n",
       "      <th>prediction</th>\n",
       "    </tr>\n",
       "  </thead>\n",
       "  <tbody>\n",
       "    <tr>\n",
       "      <th>0</th>\n",
       "      <td>499921233</td>\n",
       "      <td>202316.296875</td>\n",
       "    </tr>\n",
       "    <tr>\n",
       "      <th>1</th>\n",
       "      <td>499921235</td>\n",
       "      <td>59766.675781</td>\n",
       "    </tr>\n",
       "    <tr>\n",
       "      <th>2</th>\n",
       "      <td>499921241</td>\n",
       "      <td>39696.062500</td>\n",
       "    </tr>\n",
       "    <tr>\n",
       "      <th>3</th>\n",
       "      <td>499921250</td>\n",
       "      <td>14430.231445</td>\n",
       "    </tr>\n",
       "    <tr>\n",
       "      <th>4</th>\n",
       "      <td>499921253</td>\n",
       "      <td>10196.595703</td>\n",
       "    </tr>\n",
       "  </tbody>\n",
       "</table>\n",
       "</div>"
      ],
      "text/plain": [
       "   id_reseller     prediction\n",
       "0    499921233  202316.296875\n",
       "1    499921235   59766.675781\n",
       "2    499921241   39696.062500\n",
       "3    499921250   14430.231445\n",
       "4    499921253   10196.595703"
      ]
     },
     "execution_count": 30,
     "metadata": {},
     "output_type": "execute_result"
    }
   ],
   "source": [
    "df_predictions.head()"
   ]
  },
  {
   "cell_type": "markdown",
   "metadata": {},
   "source": [
    "Finally we upload predictions to S3"
   ]
  },
  {
   "cell_type": "code",
   "execution_count": null,
   "metadata": {},
   "outputs": [],
   "source": [
    "role = sagemaker.get_execution_role()\n",
    "bucket = sagemaker.Session().default_bucket()                     \n",
    "prefix = 'predictions'"
   ]
  },
  {
   "cell_type": "code",
   "execution_count": null,
   "metadata": {},
   "outputs": [],
   "source": [
    "df_predictions.to_csv('predictions.csv',index=False)"
   ]
  },
  {
   "cell_type": "code",
   "execution_count": null,
   "metadata": {},
   "outputs": [],
   "source": [
    "boto3.Session().resource('s3').Bucket(bucket).Object(os.path.join(prefix, 'predictions.csv')).upload_file('predictions.csv')"
   ]
  },
  {
   "cell_type": "code",
   "execution_count": null,
   "metadata": {},
   "outputs": [],
   "source": []
  }
 ],
 "metadata": {
  "kernelspec": {
   "display_name": "conda_python2",
   "language": "python",
   "name": "conda_python2"
  },
  "language_info": {
   "codemirror_mode": {
    "name": "ipython",
    "version": 2
   },
   "file_extension": ".py",
   "mimetype": "text/x-python",
   "name": "python",
   "nbconvert_exporter": "python",
   "pygments_lexer": "ipython2",
   "version": "2.7.15"
  }
 },
 "nbformat": 4,
 "nbformat_minor": 2
}
