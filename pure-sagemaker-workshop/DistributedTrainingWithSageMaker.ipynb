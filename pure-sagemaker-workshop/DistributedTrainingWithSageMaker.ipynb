{
 "cells": [
  {
   "cell_type": "code",
   "execution_count": 1,
   "metadata": {},
   "outputs": [],
   "source": [
    "import struct\n",
    "import io\n",
    "import boto3\n",
    "import datetime\n",
    "from time import gmtime, strftime\n",
    "import time"
   ]
  },
  {
   "cell_type": "code",
   "execution_count": 2,
   "metadata": {},
   "outputs": [],
   "source": [
    "import sagemaker\n",
    "import boto3\n",
    "from sagemaker.tuner import IntegerParameter, CategoricalParameter, ContinuousParameter, HyperparameterTuner\n",
    "\n",
    "import numpy as np                                # For matrix operations and numerical processing\n",
    "import pandas as pd                               # For munging tabular data\n",
    "import os \n",
    "from sagemaker.amazon.amazon_estimator import get_image_uri\n",
    "\n",
    "region = boto3.Session().region_name    \n",
    "container = get_image_uri(region, 'xgboost', '0.90-1')\n",
    "smclient = boto3.Session().client('sagemaker')\n",
    "\n",
    "role = sagemaker.get_execution_role()\n",
    "sess = sagemaker.Session()\n",
    "\n",
    "bucket = sagemaker.Session().default_bucket()                     \n",
    "prefix = 'sagemaker/invoice-prediction/distributed'\n",
    "bucket_path = 'https://s3-{}.amazonaws.com/{}'.format(region,bucket)\n"
   ]
  },
  {
   "cell_type": "code",
   "execution_count": 3,
   "metadata": {},
   "outputs": [],
   "source": [
    "# Param # of partitions (should be less than )\n",
    "numberOfPartitions = 5"
   ]
  },
  {
   "cell_type": "code",
   "execution_count": 4,
   "metadata": {},
   "outputs": [],
   "source": [
    "train = pd.read_csv('train.csv',header=None)\n",
    "validation = pd.read_csv('validation.csv',header=None)"
   ]
  },
  {
   "cell_type": "code",
   "execution_count": 5,
   "metadata": {},
   "outputs": [],
   "source": [
    "train = train.dropna()\n",
    "validation = validation.dropna()"
   ]
  },
  {
   "cell_type": "code",
   "execution_count": 11,
   "metadata": {},
   "outputs": [
    {
     "data": {
      "text/plain": [
       "(135546, 71)"
      ]
     },
     "execution_count": 11,
     "metadata": {},
     "output_type": "execute_result"
    }
   ],
   "source": [
    "validation.shape"
   ]
  },
  {
   "cell_type": "code",
   "execution_count": 19,
   "metadata": {},
   "outputs": [],
   "source": [
    "def to_libsvm(x):\n",
    "    label = x[0]\n",
    "    feats = list(x[1:])\n",
    "    feats_lib = ' '.join(['{}:{}'.format(i + 1, el) for i, el in enumerate(feats)])\n",
    "    record = '{} {}'.format(label,feats_lib)\n",
    "    return record"
   ]
  },
  {
   "cell_type": "code",
   "execution_count": 20,
   "metadata": {},
   "outputs": [],
   "source": [
    "def write_to_s3(fobj, bucket, key):\n",
    "    return boto3.Session(region_name=region).resource('s3').Bucket(bucket).Object(key).upload_fileobj(fobj)"
   ]
  },
  {
   "cell_type": "code",
   "execution_count": 21,
   "metadata": {},
   "outputs": [],
   "source": [
    "def upload_to_s3(channel_name, channel_ds):\n",
    "    libsvm_records = list(channel_ds.apply(to_libsvm,axis=1))\n",
    "    print(len(libsvm_records))\n",
    "    num_partition = 5                                 # partition file into 5 parts\n",
    "    partition_bound = int(len(channel_ds)/num_partition)\n",
    "\n",
    "    for i in range(num_partition):\n",
    "        f = io.BytesIO()\n",
    "        records_subset = libsvm_records[i*partition_bound:(i+1)*partition_bound]\n",
    "        print('Partition of {} records'.format(len(records_subset)))\n",
    "        f.write(bytes('\\n'.join(records_subset), 'utf-8')) \n",
    "        f.seek(0)\n",
    "        key = \"{}/{}/examples{}\".format(prefix,channel_name,str(i))\n",
    "        url = 's3n://{}/{}'.format(bucket, key)\n",
    "        print('Writing to {}'.format(url))\n",
    "        write_to_s3(f, bucket, key)\n",
    "        print('Done writing to {}'.format(url))"
   ]
  },
  {
   "cell_type": "code",
   "execution_count": 24,
   "metadata": {},
   "outputs": [],
   "source": [
    "def convert_data():\n",
    "    channels = [('train', train), ('validation', validation)]\n",
    "    for channel_name, channel_ds in channels:\n",
    "        upload_to_s3(channel_name, channel_ds)"
   ]
  },
  {
   "cell_type": "code",
   "execution_count": 25,
   "metadata": {},
   "outputs": [
    {
     "name": "stdout",
     "output_type": "stream",
     "text": [
      "2019-09-21 19:27:41\n",
      "1221302\n",
      "Partition of 244260 records\n",
      "Writing to s3n://sagemaker-us-east-1-452432741922/sagemaker/invoice-prediction/distributed/train/examples0\n",
      "sagemaker-us-east-1-452432741922 sagemaker/invoice-prediction/distributed/train/examples0\n",
      "Done writing to s3n://sagemaker-us-east-1-452432741922/sagemaker/invoice-prediction/distributed/train/examples0\n",
      "Partition of 244260 records\n",
      "Writing to s3n://sagemaker-us-east-1-452432741922/sagemaker/invoice-prediction/distributed/train/examples1\n",
      "sagemaker-us-east-1-452432741922 sagemaker/invoice-prediction/distributed/train/examples1\n",
      "Done writing to s3n://sagemaker-us-east-1-452432741922/sagemaker/invoice-prediction/distributed/train/examples1\n",
      "Partition of 244260 records\n",
      "Writing to s3n://sagemaker-us-east-1-452432741922/sagemaker/invoice-prediction/distributed/train/examples2\n",
      "sagemaker-us-east-1-452432741922 sagemaker/invoice-prediction/distributed/train/examples2\n",
      "Done writing to s3n://sagemaker-us-east-1-452432741922/sagemaker/invoice-prediction/distributed/train/examples2\n",
      "Partition of 244260 records\n",
      "Writing to s3n://sagemaker-us-east-1-452432741922/sagemaker/invoice-prediction/distributed/train/examples3\n",
      "sagemaker-us-east-1-452432741922 sagemaker/invoice-prediction/distributed/train/examples3\n",
      "Done writing to s3n://sagemaker-us-east-1-452432741922/sagemaker/invoice-prediction/distributed/train/examples3\n",
      "Partition of 244260 records\n",
      "Writing to s3n://sagemaker-us-east-1-452432741922/sagemaker/invoice-prediction/distributed/train/examples4\n",
      "sagemaker-us-east-1-452432741922 sagemaker/invoice-prediction/distributed/train/examples4\n",
      "Done writing to s3n://sagemaker-us-east-1-452432741922/sagemaker/invoice-prediction/distributed/train/examples4\n",
      "135546\n",
      "Partition of 27109 records\n",
      "Writing to s3n://sagemaker-us-east-1-452432741922/sagemaker/invoice-prediction/distributed/validation/examples0\n",
      "sagemaker-us-east-1-452432741922 sagemaker/invoice-prediction/distributed/validation/examples0\n",
      "Done writing to s3n://sagemaker-us-east-1-452432741922/sagemaker/invoice-prediction/distributed/validation/examples0\n",
      "Partition of 27109 records\n",
      "Writing to s3n://sagemaker-us-east-1-452432741922/sagemaker/invoice-prediction/distributed/validation/examples1\n",
      "sagemaker-us-east-1-452432741922 sagemaker/invoice-prediction/distributed/validation/examples1\n",
      "Done writing to s3n://sagemaker-us-east-1-452432741922/sagemaker/invoice-prediction/distributed/validation/examples1\n",
      "Partition of 27109 records\n",
      "Writing to s3n://sagemaker-us-east-1-452432741922/sagemaker/invoice-prediction/distributed/validation/examples2\n",
      "sagemaker-us-east-1-452432741922 sagemaker/invoice-prediction/distributed/validation/examples2\n",
      "Done writing to s3n://sagemaker-us-east-1-452432741922/sagemaker/invoice-prediction/distributed/validation/examples2\n",
      "Partition of 27109 records\n",
      "Writing to s3n://sagemaker-us-east-1-452432741922/sagemaker/invoice-prediction/distributed/validation/examples3\n",
      "sagemaker-us-east-1-452432741922 sagemaker/invoice-prediction/distributed/validation/examples3\n",
      "Done writing to s3n://sagemaker-us-east-1-452432741922/sagemaker/invoice-prediction/distributed/validation/examples3\n",
      "Partition of 27109 records\n",
      "Writing to s3n://sagemaker-us-east-1-452432741922/sagemaker/invoice-prediction/distributed/validation/examples4\n",
      "sagemaker-us-east-1-452432741922 sagemaker/invoice-prediction/distributed/validation/examples4\n",
      "Done writing to s3n://sagemaker-us-east-1-452432741922/sagemaker/invoice-prediction/distributed/validation/examples4\n",
      "2019-09-21 19:33:45\n"
     ]
    }
   ],
   "source": [
    "print (datetime.datetime.now().strftime('%Y-%m-%d %H:%M:%S'))\n",
    "convert_data()\n",
    "print (datetime.datetime.now().strftime('%Y-%m-%d %H:%M:%S'))"
   ]
  },
  {
   "cell_type": "code",
   "execution_count": 26,
   "metadata": {},
   "outputs": [],
   "source": [
    "#Ensure that the train and validation data folders generated above are reflected in the \"InputDataConfig\" parameter below.\n",
    "training_params = \\\n",
    "{\n",
    "    \"AlgorithmSpecification\": {\n",
    "        \"TrainingImage\": container,\n",
    "        \"TrainingInputMode\": \"File\"\n",
    "    },\n",
    "    \"RoleArn\": role,\n",
    "    \"OutputDataConfig\": {\n",
    "        \"S3OutputPath\": bucket_path + \"/\"+ prefix + \"/xgboost\"\n",
    "    },\n",
    "    \"ResourceConfig\": {\n",
    "        \"InstanceCount\": 1,   \n",
    "        \"InstanceType\": \"ml.m4.10xlarge\",\n",
    "        \"VolumeSizeInGB\": 100\n",
    "    },\n",
    "    \"HyperParameters\": {\n",
    "        \"max_depth\":\"5\",\n",
    "        \"eta\":\"0.2\",\n",
    "        \"gamma\":\"4\",\n",
    "        \"min_child_weight\":\"6\",\n",
    "        \"silent\":\"0\",\n",
    "        \"objective\":\"reg:linear\",\n",
    "        \"num_round\": \"10\"\n",
    "    },\n",
    "    \"StoppingCondition\": {\n",
    "        \"MaxRuntimeInSeconds\": 86400\n",
    "    },\n",
    "    \"InputDataConfig\": [\n",
    "        {\n",
    "            \"ChannelName\": \"train\",\n",
    "            \"DataSource\": {\n",
    "                \"S3DataSource\": {\n",
    "                    \"S3DataType\": \"S3Prefix\",\n",
    "                    \"S3Uri\": bucket_path + \"/\"+ prefix+ '/train/',\n",
    "                    \"S3DataDistributionType\": \"FullyReplicated\" \n",
    "                }\n",
    "            },\n",
    "            \"ContentType\": \"libsvm\",\n",
    "            \"CompressionType\": \"None\"\n",
    "        },\n",
    "        {\n",
    "            \"ChannelName\": \"validation\",\n",
    "            \"DataSource\": {\n",
    "                \"S3DataSource\": {\n",
    "                    \"S3DataType\": \"S3Prefix\",\n",
    "                    \"S3Uri\": bucket_path + \"/\"+ prefix+ '/validation/',\n",
    "                    \"S3DataDistributionType\": \"FullyReplicated\"\n",
    "                }\n",
    "            },\n",
    "            \"ContentType\": \"libsvm\",\n",
    "            \"CompressionType\": \"None\"\n",
    "        }\n",
    "    ]\n",
    "}"
   ]
  },
  {
   "cell_type": "code",
   "execution_count": 27,
   "metadata": {},
   "outputs": [
    {
     "name": "stdout",
     "output_type": "stream",
     "text": [
      "Job name is: xgboost-pricepredictions-regression2019-09-21-19-40-29\n"
     ]
    }
   ],
   "source": [
    "#distributed job params\n",
    "distributed_job_name = 'xgboost-pricepredictions-regression' + strftime(\"%Y-%m-%d-%H-%M-%S\", gmtime())\n",
    "print(\"Job name is:\", distributed_job_name)\n",
    "\n",
    "distributed_job_params = training_params\n",
    "distributed_job_params['TrainingJobName'] = distributed_job_name\n",
    "distributed_job_params['OutputDataConfig']['S3OutputPath'] = bucket_path + \"/\"+ prefix + \"/xgboost-distributed\"\n",
    "#number of instances used for training\n",
    "distributed_job_params['ResourceConfig']['InstanceCount'] = 2 # no more than 5 if there are total 5 partition files generated above\n",
    "\n",
    "# data distribution type for train channel\n",
    "distributed_job_params['InputDataConfig'][0]['DataSource']['S3DataSource']['S3DataDistributionType'] = 'ShardedByS3Key'\n",
    "# data distribution type for validation channel\n",
    "distributed_job_params['InputDataConfig'][1]['DataSource']['S3DataSource']['S3DataDistributionType'] = 'ShardedByS3Key'"
   ]
  },
  {
   "cell_type": "code",
   "execution_count": 28,
   "metadata": {},
   "outputs": [
    {
     "name": "stdout",
     "output_type": "stream",
     "text": [
      "InProgress\n",
      "Training job ended with status: Completed\n",
      "CPU times: user 98.6 ms, sys: 16.1 ms, total: 115 ms\n",
      "Wall time: 4min\n"
     ]
    }
   ],
   "source": [
    "%%time\n",
    "\n",
    "sm = boto3.Session(region_name=region).client('sagemaker')\n",
    "\n",
    "sm.create_training_job(**distributed_job_params)\n",
    "\n",
    "status = sm.describe_training_job(TrainingJobName=distributed_job_name)['TrainingJobStatus']\n",
    "print(status)\n",
    "sm.get_waiter('training_job_completed_or_stopped').wait(TrainingJobName=distributed_job_name)\n",
    "status = sm.describe_training_job(TrainingJobName=distributed_job_name)['TrainingJobStatus']\n",
    "print(\"Training job ended with status: \" + status)\n",
    "if status == 'Failed':\n",
    "    message = sm.describe_training_job(TrainingJobName=distributed_job_name)['FailureReason']\n",
    "    print('Training failed with the following error: {}'.format(message))\n",
    "    raise Exception('Training job failed')"
   ]
  },
  {
   "cell_type": "markdown",
   "metadata": {},
   "source": [
    "## Create Model"
   ]
  },
  {
   "cell_type": "code",
   "execution_count": 30,
   "metadata": {},
   "outputs": [
    {
     "name": "stdout",
     "output_type": "stream",
     "text": [
      "xgboost-pricepredictions-regression2019-09-21-19-40-29-mod\n",
      "https://s3-us-east-1.amazonaws.com/sagemaker-us-east-1-452432741922/sagemaker/invoice-prediction/distributed/xgboost-distributed/xgboost-pricepredictions-regression2019-09-21-19-40-29/output/model.tar.gz\n",
      "arn:aws:sagemaker:us-east-1:452432741922:model/xgboost-pricepredictions-regression2019-09-21-19-40-29-mod\n"
     ]
    }
   ],
   "source": [
    "\n",
    "model_name=distributed_job_name + '-mod'\n",
    "print(model_name)\n",
    "\n",
    "info = sm.describe_training_job(TrainingJobName=distributed_job_name)\n",
    "model_data = info['ModelArtifacts']['S3ModelArtifacts']\n",
    "print(model_data)\n",
    "\n",
    "primary_container = {\n",
    "    'Image': container,\n",
    "    'ModelDataUrl': model_data\n",
    "}\n",
    "\n",
    "create_model_response = sm.create_model(\n",
    "    ModelName = model_name,\n",
    "    ExecutionRoleArn = role,\n",
    "    PrimaryContainer = primary_container)\n",
    "\n",
    "print(create_model_response['ModelArn'])"
   ]
  },
  {
   "cell_type": "markdown",
   "metadata": {},
   "source": [
    "## Create endpoint configuration"
   ]
  },
  {
   "cell_type": "code",
   "execution_count": 31,
   "metadata": {},
   "outputs": [
    {
     "name": "stdout",
     "output_type": "stream",
     "text": [
      "XGBoostEndpointConfig-2019-09-21-19-47-48\n",
      "Endpoint Config Arn: arn:aws:sagemaker:us-east-1:452432741922:endpoint-config/xgboostendpointconfig-2019-09-21-19-47-48\n"
     ]
    }
   ],
   "source": [
    "endpoint_config_name = 'XGBoostEndpointConfig-' + strftime(\"%Y-%m-%d-%H-%M-%S\", gmtime())\n",
    "print(endpoint_config_name)\n",
    "create_endpoint_config_response = sm.create_endpoint_config(\n",
    "    EndpointConfigName = endpoint_config_name,\n",
    "    ProductionVariants=[{\n",
    "        'InstanceType':'ml.m4.xlarge',\n",
    "        'InitialVariantWeight':1,\n",
    "        'InitialInstanceCount':1,\n",
    "        'ModelName':model_name,\n",
    "        'VariantName':'AllTraffic'}])\n",
    "\n",
    "print(\"Endpoint Config Arn: \" + create_endpoint_config_response['EndpointConfigArn'])"
   ]
  },
  {
   "cell_type": "markdown",
   "metadata": {},
   "source": [
    "## Create Endpoint"
   ]
  },
  {
   "cell_type": "code",
   "execution_count": null,
   "metadata": {},
   "outputs": [
    {
     "name": "stdout",
     "output_type": "stream",
     "text": [
      "XGBoostEndpoint-2019-09-21-19-47-53\n",
      "arn:aws:sagemaker:us-east-1:452432741922:endpoint/xgboostendpoint-2019-09-21-19-47-53\n",
      "Status: Creating\n",
      "Status: Creating\n",
      "Status: Creating\n",
      "Status: Creating\n",
      "Status: Creating\n",
      "Status: Creating\n",
      "Status: Creating\n"
     ]
    }
   ],
   "source": [
    "endpoint_name = 'XGBoostEndpoint-' + strftime(\"%Y-%m-%d-%H-%M-%S\", gmtime())\n",
    "print(endpoint_name)\n",
    "create_endpoint_response = sm.create_endpoint(\n",
    "    EndpointName=endpoint_name,\n",
    "    EndpointConfigName=endpoint_config_name)\n",
    "print(create_endpoint_response['EndpointArn'])\n",
    "\n",
    "resp = sm.describe_endpoint(EndpointName=endpoint_name)\n",
    "status = resp['EndpointStatus']\n",
    "print(\"Status: \" + status)\n",
    "\n",
    "while status=='Creating':\n",
    "    time.sleep(60)\n",
    "    resp = sm.describe_endpoint(EndpointName=endpoint_name)\n",
    "    status = resp['EndpointStatus']\n",
    "    print(\"Status: \" + status)\n",
    "\n",
    "print(\"Arn: \" + resp['EndpointArn'])\n",
    "print(\"Status: \" + status)"
   ]
  },
  {
   "cell_type": "code",
   "execution_count": 36,
   "metadata": {},
   "outputs": [],
   "source": [
    "runtime_client = boto3.client('runtime.sagemaker', region_name=region)"
   ]
  },
  {
   "cell_type": "code",
   "execution_count": 54,
   "metadata": {},
   "outputs": [],
   "source": [
    "import botocore\n",
    "def download_from_s3(channel_name, number):\n",
    "    filename = 'examples{}'.format(number)\n",
    "    key = \"{}/{}/{}\".format(prefix,channel_name,filename)\n",
    "    s3 = boto3.resource('s3', region_name = region)\n",
    "    try:\n",
    "        s3.Bucket(bucket).download_file(key, filename)\n",
    "    except botocore.exceptions.ClientError as e:\n",
    "        if e.response['Error']['Code'] == \"404\":\n",
    "            print('The object does not exist at {}.'.format(key+filename))\n",
    "        else:\n",
    "            raise        \n",
    "        "
   ]
  },
  {
   "cell_type": "code",
   "execution_count": 55,
   "metadata": {},
   "outputs": [
    {
     "name": "stdout",
     "output_type": "stream",
     "text": [
      "sagemaker/invoice-prediction/distributed/validation/examples0 examples0\n"
     ]
    }
   ],
   "source": [
    "download_from_s3('validation', 0) # reading the first part file within test"
   ]
  },
  {
   "cell_type": "code",
   "execution_count": 59,
   "metadata": {},
   "outputs": [
    {
     "name": "stdout",
     "output_type": "stream",
     "text": [
      "22307.401 1:17793.093888888892 2:16508.30175 3:6137.864423836161 4:0.0 5:12505.536999999998 6:0.0 7:0.0 8:1.0 9:0.0 10:0.0 11:0.0 12:0.0 13:0.0 14:0.0 15:0.0 16:0.0 17:0.0 18:0.0 19:1.0 20:0.0 21:0.0 22:0.0 23:0.0 24:0.0 25:0.0 26:0.0 27:0.0 28:0.0 29:0.0 30:0.0 31:0.0 32:0.0 33:0.0 34:0.0 35:0.0 36:0.0 37:0.0 38:0.0 39:0.0 40:0.0 41:0.0 42:0.0 43:0.0 44:0.0 45:0.0 46:0.0 47:0.0 48:0.0 49:0.0 50:0.0 51:0.0 52:0.0 53:0.0 54:0.0 55:0.0 56:0.0 57:0.0 58:0.0 59:0.0 60:0.0 61:0.0 62:0.0 63:0.0 64:0.0 65:0.0 66:0.0 67:0.0 68:0.0 69:1.0 70:0.0\r\n"
     ]
    }
   ],
   "source": [
    "!head -1 examples0"
   ]
  },
  {
   "cell_type": "code",
   "execution_count": 57,
   "metadata": {},
   "outputs": [],
   "source": [
    "!head -1 examples0 > singleexamples0"
   ]
  },
  {
   "cell_type": "code",
   "execution_count": 58,
   "metadata": {},
   "outputs": [
    {
     "name": "stdout",
     "output_type": "stream",
     "text": [
      "Predicted label is 16245.03515625.\n"
     ]
    }
   ],
   "source": [
    "import json\n",
    "\n",
    "file_name = 'singleexamples0' #customize to your test file 'mnist.single.test' if use the data above\n",
    "\n",
    "with open(file_name, 'r') as f:\n",
    "    payload = f.read()\n",
    "\n",
    "response = runtime_client.invoke_endpoint(EndpointName=endpoint_name, \n",
    "                                   ContentType='text/x-libsvm', \n",
    "                                   Body=payload)\n",
    "result = response['Body'].read().decode('ascii')\n",
    "print('Predicted label is {}.'.format(result))"
   ]
  },
  {
   "cell_type": "code",
   "execution_count": null,
   "metadata": {},
   "outputs": [],
   "source": []
  }
 ],
 "metadata": {
  "kernelspec": {
   "display_name": "conda_python3",
   "language": "python",
   "name": "conda_python3"
  },
  "language_info": {
   "codemirror_mode": {
    "name": "ipython",
    "version": 3
   },
   "file_extension": ".py",
   "mimetype": "text/x-python",
   "name": "python",
   "nbconvert_exporter": "python",
   "pygments_lexer": "ipython3",
   "version": "3.6.5"
  }
 },
 "nbformat": 4,
 "nbformat_minor": 2
}
