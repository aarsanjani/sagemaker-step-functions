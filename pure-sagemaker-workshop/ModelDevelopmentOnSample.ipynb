{
 "cells": [
  {
   "cell_type": "code",
   "execution_count": 45,
   "metadata": {},
   "outputs": [],
   "source": [
    "import pandas as pd\n",
    "import numpy as np\n",
    "import sklearn\n",
    "from sklearn.ensemble import RandomForestRegressor\n",
    "import matplotlib.pyplot as plt"
   ]
  },
  {
   "cell_type": "code",
   "execution_count": 2,
   "metadata": {},
   "outputs": [],
   "source": [
    "df = pd.read_csv('billing_sm.csv')\n",
    "df_r = pd.read_csv('reseller_sm.csv')"
   ]
  },
  {
   "cell_type": "code",
   "execution_count": 3,
   "metadata": {},
   "outputs": [],
   "source": [
    "df['date'] = pd.to_datetime(df['date'])"
   ]
  },
  {
   "cell_type": "code",
   "execution_count": 4,
   "metadata": {},
   "outputs": [],
   "source": [
    "# Filter Last 4 Months"
   ]
  },
  {
   "cell_type": "code",
   "execution_count": 5,
   "metadata": {},
   "outputs": [],
   "source": [
    "max_date = df['date'].max()\n",
    "min_date = max_date - pd.to_timedelta(120, unit='d')\n",
    "df = df[df['date'] > min_date]"
   ]
  },
  {
   "cell_type": "code",
   "execution_count": 6,
   "metadata": {},
   "outputs": [],
   "source": [
    "def completeItem(dfItem):\n",
    "    min_date = dfItem['date'].min()\n",
    "    max_date = dfItem['date'].max()\n",
    "    if min_date == max_date:\n",
    "        #only one data point\n",
    "        return\n",
    "    r = pd.date_range(start=min_date, end=max_date)\n",
    "    dfItemNew = dfItem.set_index('date').reindex(r).rename_axis('date').reset_index()\n",
    "    \n",
    "    dfItemNew['mean-last-30'] = dfItemNew['bill'].rolling(30,min_periods=1).mean().reset_index()['bill']\n",
    "    dfItemNew['mean-last-7'] = dfItemNew['bill'].rolling(7,min_periods=1).mean().reset_index()['bill']\n",
    "    dfItemNew['std-last-30'] = dfItemNew['bill'].rolling(30,min_periods=1).std().reset_index()['bill']\n",
    "    dfItemNew['bill'] = dfItemNew['bill'].fillna(0)\n",
    "    dfItemNew['id_reseller'] = dfItem['id_reseller'].max()\n",
    "    dfItemNew['std-last-30'].fillna(method='ffill',inplace=True)\n",
    "    dfItemNew['mean-last-7'].fillna(method='ffill',inplace=True)\n",
    "    dfItemNew['std-last-30'].fillna(method='ffill',inplace=True)\n",
    "    resp = []\n",
    "    counter = 0\n",
    "    for index,row in dfItemNew.iterrows(): \n",
    "        resp.append(counter)\n",
    "        if row['bill'] == 0: \n",
    "            counter += 1 \n",
    "        else:\n",
    "            counter = 0\n",
    "    dfItemNew['days_without_purchase'] = pd.Series(resp)\n",
    "    return dfItemNew"
   ]
  },
  {
   "cell_type": "code",
   "execution_count": 7,
   "metadata": {},
   "outputs": [
    {
     "name": "stdout",
     "output_type": "stream",
     "text": [
      "processed 200 resellers\n",
      "processed 400 resellers\n",
      "processed 600 resellers\n",
      "processed 800 resellers\n",
      "processed 1000 resellers\n",
      "processed 1200 resellers\n",
      "processed 1400 resellers\n",
      "processed 1600 resellers\n",
      "processed 1800 resellers\n",
      "processed 2000 resellers\n",
      "processed 2200 resellers\n",
      "processed 2400 resellers\n",
      "processed 2600 resellers\n",
      "processed 2800 resellers\n",
      "processed 3000 resellers\n",
      "processed 3200 resellers\n",
      "processed 3400 resellers\n",
      "processed 3600 resellers\n",
      "processed 3800 resellers\n",
      "processed 4000 resellers\n",
      "processed 4200 resellers\n",
      "processed 4400 resellers\n",
      "processed 4600 resellers\n",
      "processed 4800 resellers\n",
      "processed 5000 resellers\n",
      "processed 5200 resellers\n",
      "processed 5400 resellers\n",
      "processed 5600 resellers\n",
      "processed 5800 resellers\n",
      "processed 6000 resellers\n",
      "processed 6200 resellers\n",
      "processed 6400 resellers\n",
      "processed 6600 resellers\n",
      "processed 6800 resellers\n",
      "processed 7000 resellers\n",
      "processed 7200 resellers\n",
      "processed 7400 resellers\n",
      "processed 7600 resellers\n",
      "processed 7800 resellers\n",
      "processed 8000 resellers\n",
      "processed 8200 resellers\n",
      "processed 8400 resellers\n",
      "processed 8600 resellers\n",
      "processed 8800 resellers\n",
      "processed 9000 resellers\n",
      "processed 9200 resellers\n",
      "processed 9400 resellers\n",
      "processed 9600 resellers\n",
      "processed 9800 resellers\n",
      "processed 10000 resellers\n",
      "processed 10200 resellers\n",
      "processed 10400 resellers\n",
      "processed 10600 resellers\n",
      "processed 10800 resellers\n",
      "processed 11000 resellers\n",
      "processed 11200 resellers\n",
      "processed 11400 resellers\n",
      "processed 11600 resellers\n",
      "processed 11800 resellers\n",
      "processed 12000 resellers\n",
      "processed 12200 resellers\n"
     ]
    }
   ],
   "source": [
    "i = 0\n",
    "dfCompletedList = []\n",
    "for nid,item in df.groupby('id_reseller'):\n",
    "    i = i+1\n",
    "    if i%200 == 0:\n",
    "        print ('processed {} resellers'.format(str(i)))\n",
    "    dfCompletedList.append(completeItem(item))"
   ]
  },
  {
   "cell_type": "code",
   "execution_count": 8,
   "metadata": {},
   "outputs": [],
   "source": [
    "df = pd.concat(dfCompletedList).copy()\n",
    "del dfCompletedList\n",
    "df['weekday']  = df['date'].dt.weekday_name\n"
   ]
  },
  {
   "cell_type": "code",
   "execution_count": 9,
   "metadata": {},
   "outputs": [],
   "source": [
    "df['next_bill'] = df.replace(0,np.nan).groupby('id_reseller')['bill'].fillna(method='bfill')"
   ]
  },
  {
   "cell_type": "code",
   "execution_count": 10,
   "metadata": {},
   "outputs": [],
   "source": [
    "df['last_bill'] = df.replace(0,np.nan).groupby('id_reseller')['bill'].fillna(method='ffill').copy()\n",
    "different_zero = df['last_bill'].shift(1)\n",
    "df.loc[df['bill'] != 0,'last_bill'] = np.nan\n",
    "df['last_bill'] = df['last_bill'].fillna(different_zero)"
   ]
  },
  {
   "cell_type": "code",
   "execution_count": 11,
   "metadata": {},
   "outputs": [
    {
     "data": {
      "text/html": [
       "<div>\n",
       "<style scoped>\n",
       "    .dataframe tbody tr th:only-of-type {\n",
       "        vertical-align: middle;\n",
       "    }\n",
       "\n",
       "    .dataframe tbody tr th {\n",
       "        vertical-align: top;\n",
       "    }\n",
       "\n",
       "    .dataframe thead th {\n",
       "        text-align: right;\n",
       "    }\n",
       "</style>\n",
       "<table border=\"1\" class=\"dataframe\">\n",
       "  <thead>\n",
       "    <tr style=\"text-align: right;\">\n",
       "      <th></th>\n",
       "      <th>date</th>\n",
       "      <th>id_reseller</th>\n",
       "      <th>bill</th>\n",
       "      <th>mean-last-30</th>\n",
       "      <th>mean-last-7</th>\n",
       "      <th>std-last-30</th>\n",
       "      <th>days_without_purchase</th>\n",
       "      <th>weekday</th>\n",
       "      <th>next_bill</th>\n",
       "      <th>last_bill</th>\n",
       "    </tr>\n",
       "  </thead>\n",
       "  <tbody>\n",
       "    <tr>\n",
       "      <th>0</th>\n",
       "      <td>2019-01-23</td>\n",
       "      <td>499921233</td>\n",
       "      <td>127180.938</td>\n",
       "      <td>127180.938</td>\n",
       "      <td>127180.938</td>\n",
       "      <td>NaN</td>\n",
       "      <td>0</td>\n",
       "      <td>Wednesday</td>\n",
       "      <td>127180.938</td>\n",
       "      <td>NaN</td>\n",
       "    </tr>\n",
       "    <tr>\n",
       "      <th>1</th>\n",
       "      <td>2019-01-24</td>\n",
       "      <td>499921233</td>\n",
       "      <td>0.000</td>\n",
       "      <td>127180.938</td>\n",
       "      <td>127180.938</td>\n",
       "      <td>NaN</td>\n",
       "      <td>0</td>\n",
       "      <td>Thursday</td>\n",
       "      <td>335067.312</td>\n",
       "      <td>127180.938</td>\n",
       "    </tr>\n",
       "    <tr>\n",
       "      <th>2</th>\n",
       "      <td>2019-01-25</td>\n",
       "      <td>499921233</td>\n",
       "      <td>0.000</td>\n",
       "      <td>127180.938</td>\n",
       "      <td>127180.938</td>\n",
       "      <td>NaN</td>\n",
       "      <td>1</td>\n",
       "      <td>Friday</td>\n",
       "      <td>335067.312</td>\n",
       "      <td>127180.938</td>\n",
       "    </tr>\n",
       "    <tr>\n",
       "      <th>3</th>\n",
       "      <td>2019-01-26</td>\n",
       "      <td>499921233</td>\n",
       "      <td>0.000</td>\n",
       "      <td>127180.938</td>\n",
       "      <td>127180.938</td>\n",
       "      <td>NaN</td>\n",
       "      <td>2</td>\n",
       "      <td>Saturday</td>\n",
       "      <td>335067.312</td>\n",
       "      <td>127180.938</td>\n",
       "    </tr>\n",
       "    <tr>\n",
       "      <th>4</th>\n",
       "      <td>2019-01-27</td>\n",
       "      <td>499921233</td>\n",
       "      <td>0.000</td>\n",
       "      <td>127180.938</td>\n",
       "      <td>127180.938</td>\n",
       "      <td>NaN</td>\n",
       "      <td>3</td>\n",
       "      <td>Sunday</td>\n",
       "      <td>335067.312</td>\n",
       "      <td>127180.938</td>\n",
       "    </tr>\n",
       "  </tbody>\n",
       "</table>\n",
       "</div>"
      ],
      "text/plain": [
       "        date  id_reseller        bill  mean-last-30  mean-last-7  std-last-30  \\\n",
       "0 2019-01-23    499921233  127180.938    127180.938   127180.938          NaN   \n",
       "1 2019-01-24    499921233       0.000    127180.938   127180.938          NaN   \n",
       "2 2019-01-25    499921233       0.000    127180.938   127180.938          NaN   \n",
       "3 2019-01-26    499921233       0.000    127180.938   127180.938          NaN   \n",
       "4 2019-01-27    499921233       0.000    127180.938   127180.938          NaN   \n",
       "\n",
       "   days_without_purchase    weekday   next_bill   last_bill  \n",
       "0                      0  Wednesday  127180.938         NaN  \n",
       "1                      0   Thursday  335067.312  127180.938  \n",
       "2                      1     Friday  335067.312  127180.938  \n",
       "3                      2   Saturday  335067.312  127180.938  \n",
       "4                      3     Sunday  335067.312  127180.938  "
      ]
     },
     "execution_count": 11,
     "metadata": {},
     "output_type": "execute_result"
    }
   ],
   "source": [
    "df.head()"
   ]
  },
  {
   "cell_type": "code",
   "execution_count": 12,
   "metadata": {},
   "outputs": [
    {
     "data": {
      "text/plain": [
       "(1442916, 10)"
      ]
     },
     "execution_count": 12,
     "metadata": {},
     "output_type": "execute_result"
    }
   ],
   "source": [
    "df.shape"
   ]
  },
  {
   "cell_type": "code",
   "execution_count": 13,
   "metadata": {},
   "outputs": [
    {
     "name": "stdout",
     "output_type": "stream",
     "text": [
      "<class 'pandas.core.frame.DataFrame'>\n",
      "Int64Index: 1442916 entries, 0 to 62\n",
      "Data columns (total 10 columns):\n",
      "date                     1442916 non-null datetime64[ns]\n",
      "id_reseller              1442916 non-null int64\n",
      "bill                     1442916 non-null float64\n",
      "mean-last-30             1442850 non-null float64\n",
      "mean-last-7              1442916 non-null float64\n",
      "std-last-30              1399292 non-null float64\n",
      "days_without_purchase    1442916 non-null int64\n",
      "weekday                  1442916 non-null object\n",
      "next_bill                1442916 non-null float64\n",
      "last_bill                1442915 non-null float64\n",
      "dtypes: datetime64[ns](1), float64(6), int64(2), object(1)\n",
      "memory usage: 161.1+ MB\n"
     ]
    }
   ],
   "source": [
    "df.info()"
   ]
  },
  {
   "cell_type": "code",
   "execution_count": 14,
   "metadata": {},
   "outputs": [],
   "source": [
    "df = df.dropna().copy()"
   ]
  },
  {
   "cell_type": "code",
   "execution_count": 15,
   "metadata": {},
   "outputs": [],
   "source": [
    "#We meassure success computing how many resellers did we predict with less than 15% error.\n",
    "def score_15(y,preds):\n",
    "    return np.sum(np.abs((preds-y)/y) <= 0.15 )/ len(preds)"
   ]
  },
  {
   "cell_type": "code",
   "execution_count": 16,
   "metadata": {},
   "outputs": [
    {
     "data": {
      "text/plain": [
       "0.2249318910141878"
      ]
     },
     "execution_count": 16,
     "metadata": {},
     "output_type": "execute_result"
    }
   ],
   "source": [
    "score_15(df['next_bill'],df['last_bill'])"
   ]
  },
  {
   "cell_type": "code",
   "execution_count": 17,
   "metadata": {},
   "outputs": [],
   "source": [
    "df = pd.concat([df,pd.get_dummies(df.weekday)],axis=1)"
   ]
  },
  {
   "cell_type": "code",
   "execution_count": 18,
   "metadata": {},
   "outputs": [],
   "source": [
    "val_resellers = list(pd.Series(df['id_reseller'].unique()).sample(frac=0.1))\n",
    "df_train = df[~df['id_reseller'].isin(val_resellers)].sample(frac=1)\n",
    "df_validation = df[df['id_reseller'].isin(val_resellers)].sample(frac=1)"
   ]
  },
  {
   "cell_type": "code",
   "execution_count": 19,
   "metadata": {},
   "outputs": [
    {
     "data": {
      "text/html": [
       "<div>\n",
       "<style scoped>\n",
       "    .dataframe tbody tr th:only-of-type {\n",
       "        vertical-align: middle;\n",
       "    }\n",
       "\n",
       "    .dataframe tbody tr th {\n",
       "        vertical-align: top;\n",
       "    }\n",
       "\n",
       "    .dataframe thead th {\n",
       "        text-align: right;\n",
       "    }\n",
       "</style>\n",
       "<table border=\"1\" class=\"dataframe\">\n",
       "  <thead>\n",
       "    <tr style=\"text-align: right;\">\n",
       "      <th></th>\n",
       "      <th>date</th>\n",
       "      <th>id_reseller</th>\n",
       "      <th>bill</th>\n",
       "      <th>mean-last-30</th>\n",
       "      <th>mean-last-7</th>\n",
       "      <th>std-last-30</th>\n",
       "      <th>days_without_purchase</th>\n",
       "      <th>weekday</th>\n",
       "      <th>next_bill</th>\n",
       "      <th>last_bill</th>\n",
       "      <th>Friday</th>\n",
       "      <th>Monday</th>\n",
       "      <th>Saturday</th>\n",
       "      <th>Sunday</th>\n",
       "      <th>Thursday</th>\n",
       "      <th>Tuesday</th>\n",
       "      <th>Wednesday</th>\n",
       "    </tr>\n",
       "  </thead>\n",
       "  <tbody>\n",
       "    <tr>\n",
       "      <th>7</th>\n",
       "      <td>2019-01-30</td>\n",
       "      <td>500660164</td>\n",
       "      <td>3354.320</td>\n",
       "      <td>5255.316000</td>\n",
       "      <td>6000.2975</td>\n",
       "      <td>2943.839200</td>\n",
       "      <td>3</td>\n",
       "      <td>Wednesday</td>\n",
       "      <td>3354.320</td>\n",
       "      <td>8646.275</td>\n",
       "      <td>0</td>\n",
       "      <td>0</td>\n",
       "      <td>0</td>\n",
       "      <td>0</td>\n",
       "      <td>0</td>\n",
       "      <td>0</td>\n",
       "      <td>1</td>\n",
       "    </tr>\n",
       "    <tr>\n",
       "      <th>109</th>\n",
       "      <td>2019-05-15</td>\n",
       "      <td>500648583</td>\n",
       "      <td>0.000</td>\n",
       "      <td>2604.901800</td>\n",
       "      <td>3666.6830</td>\n",
       "      <td>1239.556650</td>\n",
       "      <td>3</td>\n",
       "      <td>Wednesday</td>\n",
       "      <td>2469.579</td>\n",
       "      <td>3666.683</td>\n",
       "      <td>0</td>\n",
       "      <td>0</td>\n",
       "      <td>0</td>\n",
       "      <td>0</td>\n",
       "      <td>0</td>\n",
       "      <td>0</td>\n",
       "      <td>1</td>\n",
       "    </tr>\n",
       "    <tr>\n",
       "      <th>113</th>\n",
       "      <td>2019-05-15</td>\n",
       "      <td>500798770</td>\n",
       "      <td>4094.552</td>\n",
       "      <td>5312.679278</td>\n",
       "      <td>6696.4914</td>\n",
       "      <td>1887.185147</td>\n",
       "      <td>0</td>\n",
       "      <td>Wednesday</td>\n",
       "      <td>4094.552</td>\n",
       "      <td>5476.415</td>\n",
       "      <td>0</td>\n",
       "      <td>0</td>\n",
       "      <td>0</td>\n",
       "      <td>0</td>\n",
       "      <td>0</td>\n",
       "      <td>0</td>\n",
       "      <td>1</td>\n",
       "    </tr>\n",
       "    <tr>\n",
       "      <th>81</th>\n",
       "      <td>2019-04-15</td>\n",
       "      <td>500743724</td>\n",
       "      <td>15325.084</td>\n",
       "      <td>9618.951571</td>\n",
       "      <td>10585.4625</td>\n",
       "      <td>4098.601953</td>\n",
       "      <td>3</td>\n",
       "      <td>Monday</td>\n",
       "      <td>15325.084</td>\n",
       "      <td>5845.841</td>\n",
       "      <td>0</td>\n",
       "      <td>1</td>\n",
       "      <td>0</td>\n",
       "      <td>0</td>\n",
       "      <td>0</td>\n",
       "      <td>0</td>\n",
       "      <td>0</td>\n",
       "    </tr>\n",
       "    <tr>\n",
       "      <th>108</th>\n",
       "      <td>2019-05-10</td>\n",
       "      <td>500647981</td>\n",
       "      <td>10327.414</td>\n",
       "      <td>7801.842778</td>\n",
       "      <td>6814.2790</td>\n",
       "      <td>3662.590534</td>\n",
       "      <td>2</td>\n",
       "      <td>Friday</td>\n",
       "      <td>10327.414</td>\n",
       "      <td>3301.144</td>\n",
       "      <td>1</td>\n",
       "      <td>0</td>\n",
       "      <td>0</td>\n",
       "      <td>0</td>\n",
       "      <td>0</td>\n",
       "      <td>0</td>\n",
       "      <td>0</td>\n",
       "    </tr>\n",
       "  </tbody>\n",
       "</table>\n",
       "</div>"
      ],
      "text/plain": [
       "          date  id_reseller       bill  mean-last-30  mean-last-7  \\\n",
       "7   2019-01-30    500660164   3354.320   5255.316000    6000.2975   \n",
       "109 2019-05-15    500648583      0.000   2604.901800    3666.6830   \n",
       "113 2019-05-15    500798770   4094.552   5312.679278    6696.4914   \n",
       "81  2019-04-15    500743724  15325.084   9618.951571   10585.4625   \n",
       "108 2019-05-10    500647981  10327.414   7801.842778    6814.2790   \n",
       "\n",
       "     std-last-30  days_without_purchase    weekday  next_bill  last_bill  \\\n",
       "7    2943.839200                      3  Wednesday   3354.320   8646.275   \n",
       "109  1239.556650                      3  Wednesday   2469.579   3666.683   \n",
       "113  1887.185147                      0  Wednesday   4094.552   5476.415   \n",
       "81   4098.601953                      3     Monday  15325.084   5845.841   \n",
       "108  3662.590534                      2     Friday  10327.414   3301.144   \n",
       "\n",
       "     Friday  Monday  Saturday  Sunday  Thursday  Tuesday  Wednesday  \n",
       "7         0       0         0       0         0        0          1  \n",
       "109       0       0         0       0         0        0          1  \n",
       "113       0       0         0       0         0        0          1  \n",
       "81        0       1         0       0         0        0          0  \n",
       "108       1       0         0       0         0        0          0  "
      ]
     },
     "execution_count": 19,
     "metadata": {},
     "output_type": "execute_result"
    }
   ],
   "source": [
    "df_train.head()"
   ]
  },
  {
   "cell_type": "code",
   "execution_count": 20,
   "metadata": {},
   "outputs": [
    {
     "data": {
      "text/plain": [
       "Index(['date', 'id_reseller', 'bill', 'mean-last-30', 'mean-last-7',\n",
       "       'std-last-30', 'days_without_purchase', 'weekday', 'next_bill',\n",
       "       'last_bill', 'Friday', 'Monday', 'Saturday', 'Sunday', 'Thursday',\n",
       "       'Tuesday', 'Wednesday'],\n",
       "      dtype='object')"
      ]
     },
     "execution_count": 20,
     "metadata": {},
     "output_type": "execute_result"
    }
   ],
   "source": [
    "df_train.columns"
   ]
  },
  {
   "cell_type": "code",
   "execution_count": 23,
   "metadata": {},
   "outputs": [],
   "source": [
    "X_train = df_train[['mean-last-30', 'mean-last-7',\n",
    "       'std-last-30', 'days_without_purchase','last_bill', 'Friday', 'Monday', 'Saturday', 'Sunday', 'Thursday',\n",
    "       'Tuesday', 'Wednesday']]"
   ]
  },
  {
   "cell_type": "code",
   "execution_count": 31,
   "metadata": {},
   "outputs": [],
   "source": [
    "y_train = df_train['next_bill']"
   ]
  },
  {
   "cell_type": "code",
   "execution_count": 26,
   "metadata": {},
   "outputs": [],
   "source": [
    "X_test = df_validation[['mean-last-30', 'mean-last-7',\n",
    "       'std-last-30', 'days_without_purchase','last_bill', 'Friday', 'Monday', 'Saturday', 'Sunday', 'Thursday',\n",
    "       'Tuesday', 'Wednesday']]"
   ]
  },
  {
   "cell_type": "code",
   "execution_count": 27,
   "metadata": {},
   "outputs": [],
   "source": [
    "y_test = df_validation['next_bill']"
   ]
  },
  {
   "cell_type": "code",
   "execution_count": 37,
   "metadata": {},
   "outputs": [],
   "source": [
    "model = RandomForestRegressor(n_estimators=40)"
   ]
  },
  {
   "cell_type": "code",
   "execution_count": 38,
   "metadata": {},
   "outputs": [
    {
     "data": {
      "text/plain": [
       "RandomForestRegressor(bootstrap=True, criterion='mse', max_depth=None,\n",
       "           max_features='auto', max_leaf_nodes=None,\n",
       "           min_impurity_decrease=0.0, min_impurity_split=None,\n",
       "           min_samples_leaf=1, min_samples_split=2,\n",
       "           min_weight_fraction_leaf=0.0, n_estimators=40, n_jobs=None,\n",
       "           oob_score=False, random_state=None, verbose=0, warm_start=False)"
      ]
     },
     "execution_count": 38,
     "metadata": {},
     "output_type": "execute_result"
    }
   ],
   "source": [
    "model.fit(X_train,y_train)"
   ]
  },
  {
   "cell_type": "code",
   "execution_count": 39,
   "metadata": {},
   "outputs": [],
   "source": [
    "preds = model.predict(X_test)"
   ]
  },
  {
   "cell_type": "code",
   "execution_count": 40,
   "metadata": {},
   "outputs": [
    {
     "data": {
      "text/plain": [
       "0.34994169784460866"
      ]
     },
     "execution_count": 40,
     "metadata": {},
     "output_type": "execute_result"
    }
   ],
   "source": [
    "score_15(y_test,preds)"
   ]
  },
  {
   "cell_type": "code",
   "execution_count": 41,
   "metadata": {},
   "outputs": [
    {
     "data": {
      "text/plain": [
       "array([0.70628133, 0.05527272, 0.12887755, 0.01563113, 0.07553195,\n",
       "       0.0023554 , 0.00194502, 0.00267719, 0.00309889, 0.0023899 ,\n",
       "       0.00261552, 0.00332341])"
      ]
     },
     "execution_count": 41,
     "metadata": {},
     "output_type": "execute_result"
    }
   ],
   "source": [
    "model.feature_importances_"
   ]
  },
  {
   "cell_type": "code",
   "execution_count": 49,
   "metadata": {},
   "outputs": [
    {
     "data": {
      "text/plain": [
       "([<matplotlib.axis.YTick at 0x7f86c47645f8>,\n",
       "  <matplotlib.axis.YTick at 0x7f86c473eef0>,\n",
       "  <matplotlib.axis.YTick at 0x7f86cdf0e0f0>,\n",
       "  <matplotlib.axis.YTick at 0x7f86c46fd5c0>,\n",
       "  <matplotlib.axis.YTick at 0x7f86c47194e0>,\n",
       "  <matplotlib.axis.YTick at 0x7f86c47199b0>,\n",
       "  <matplotlib.axis.YTick at 0x7f86c4719e80>,\n",
       "  <matplotlib.axis.YTick at 0x7f86c4721390>,\n",
       "  <matplotlib.axis.YTick at 0x7f86c4721898>,\n",
       "  <matplotlib.axis.YTick at 0x7f86c4719a90>,\n",
       "  <matplotlib.axis.YTick at 0x7f86c4721710>,\n",
       "  <matplotlib.axis.YTick at 0x7f86c4721cf8>],\n",
       " <a list of 12 Text yticklabel objects>)"
      ]
     },
     "execution_count": 49,
     "metadata": {},
     "output_type": "execute_result"
    },
    {
     "data": {
      "image/png": "[encoded data removed]",
      "text/plain": [
       "<Figure size 432x288 with 1 Axes>"
      ]
     },
     "metadata": {},
     "output_type": "display_data"
    }
   ],
   "source": [
    "objects = X_train.columns\n",
    "y_pos = np.arange(len(objects))\n",
    "performance = model.feature_importances_\n",
    "\n",
    "plt.barh(y_pos, performance, align='center', alpha=0.5)\n",
    "plt.yticks(y_pos, objects)"
   ]
  },
  {
   "cell_type": "code",
   "execution_count": null,
   "metadata": {},
   "outputs": [],
   "source": []
  }
 ],
 "metadata": {
  "kernelspec": {
   "display_name": "conda_python3",
   "language": "python",
   "name": "conda_python3"
  },
  "language_info": {
   "codemirror_mode": {
    "name": "ipython",
    "version": 3
   },
   "file_extension": ".py",
   "mimetype": "text/x-python",
   "name": "python",
   "nbconvert_exporter": "python",
   "pygments_lexer": "ipython3",
   "version": "3.6.5"
  }
 },
 "nbformat": 4,
 "nbformat_minor": 2
}
